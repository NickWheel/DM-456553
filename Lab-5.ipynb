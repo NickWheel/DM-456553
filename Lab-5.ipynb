{
 "cells": [
  {
   "cell_type": "markdown",
   "metadata": {},
   "source": [
    "# Data Mining в середовищі Pandas"
   ]
  },
  {
   "cell_type": "markdown",
   "metadata": {},
   "source": [
    "### ТЕОРЕТИЧНА ЧАСТИНА ТА ПРИКЛАДИ"
   ]
  },
  {
   "cell_type": "markdown",
   "metadata": {},
   "source": [
    "Для роботи з структурованими табличними даними на мові Python розроблено [бібліотеку __Pandas__](https://ru.wikipedia.org/wiki/Pandas)\n",
    "- [Офіційний сайт](https://pandas.pydata.org)\n",
    "- [Сайт на GitHub](https://github.com/pandas-dev/pandas)"
   ]
  },
  {
   "cell_type": "code",
   "execution_count": 1,
   "metadata": {},
   "outputs": [],
   "source": [
    "# підключення бібліотеки з аліасом/псевдонімом 'pd'\n",
    "import pandas as pd"
   ]
  },
  {
   "cell_type": "code",
   "execution_count": 56,
   "metadata": {},
   "outputs": [
    {
     "name": "stdout",
     "output_type": "stream",
     "text": [
      "['BooleanDtype', 'Categorical', 'CategoricalDtype', 'CategoricalIndex', 'DataFrame', 'DateOffset', 'DatetimeIndex', 'DatetimeTZDtype', 'ExcelFile', 'ExcelWriter', 'Float64Index', 'Grouper', 'HDFStore', 'Index', 'IndexSlice', 'Int16Dtype', 'Int32Dtype', 'Int64Dtype', 'Int64Index', 'Int8Dtype', 'Interval', 'IntervalDtype', 'IntervalIndex', 'MultiIndex', 'NA', 'NaT', 'NamedAgg', 'Period', 'PeriodDtype', 'PeriodIndex', 'RangeIndex', 'Series', 'SparseDtype', 'StringDtype', 'Timedelta', 'TimedeltaIndex', 'Timestamp', 'UInt16Dtype', 'UInt32Dtype', 'UInt64Dtype', 'UInt64Index', 'UInt8Dtype', '__builtins__', '__cached__', '__doc__', '__docformat__', '__file__', '__getattr__', '__git_version__', '__loader__', '__name__', '__package__', '__path__', '__spec__', '__version__', '_config', '_hashtable', '_is_numpy_dev', '_lib', '_libs', '_np_version_under1p16', '_np_version_under1p17', '_np_version_under1p18', '_testing', '_tslib', '_typing', '_version', 'api', 'array', 'arrays', 'bdate_range', 'compat', 'concat', 'core', 'crosstab', 'cut', 'date_range', 'describe_option', 'errors', 'eval', 'factorize', 'get_dummies', 'get_option', 'infer_freq', 'interval_range', 'io', 'isna', 'isnull', 'json_normalize', 'lreshape', 'melt', 'merge', 'merge_asof', 'merge_ordered', 'notna', 'notnull', 'offsets', 'option_context', 'options', 'pandas', 'period_range', 'pivot', 'pivot_table', 'plotting', 'qcut', 'read_clipboard', 'read_csv', 'read_excel', 'read_feather', 'read_fwf', 'read_gbq', 'read_hdf', 'read_html', 'read_json', 'read_orc', 'read_parquet', 'read_pickle', 'read_sas', 'read_spss', 'read_sql', 'read_sql_query', 'read_sql_table', 'read_stata', 'read_table', 'reset_option', 'set_eng_float_format', 'set_option', 'show_versions', 'test', 'testing', 'timedelta_range', 'to_datetime', 'to_numeric', 'to_pickle', 'to_timedelta', 'tseries', 'unique', 'util', 'value_counts', 'wide_to_long']\n"
     ]
    }
   ],
   "source": [
    "print(dir(pd))"
   ]
  },
  {
   "cell_type": "markdown",
   "metadata": {
    "heading_collapsed": true
   },
   "source": [
    "#### ПРИКЛАД ЗАВАНТАЖЕННЯ ДАНИХ В Pandas з ЗОВНІШНІХ ДЖЕРЕЛ\n",
    "Створити в Pandas датасет з ім'ям `jornal`, та завантажити в нього csv-файл, що містить журнал групи `Jornal.csv`"
   ]
  },
  {
   "cell_type": "code",
   "execution_count": 57,
   "metadata": {
    "hidden": true
   },
   "outputs": [],
   "source": [
    "# створюємо датасет та завантажуємо в нього csv-файл \n",
    "jornal = pd.read_csv('Jornal.csv')"
   ]
  },
  {
   "cell_type": "code",
   "execution_count": 58,
   "metadata": {
    "hidden": true
   },
   "outputs": [
    {
     "data": {
      "text/plain": [
       "pandas.core.frame.DataFrame"
      ]
     },
     "execution_count": 58,
     "metadata": {},
     "output_type": "execute_result"
    }
   ],
   "source": [
    "type(jornal)"
   ]
  },
  {
   "cell_type": "markdown",
   "metadata": {
    "hidden": true
   },
   "source": [
    "##### виведемо ВСІ записи датасету `jornal`"
   ]
  },
  {
   "cell_type": "code",
   "execution_count": 59,
   "metadata": {
    "hidden": true
   },
   "outputs": [
    {
     "data": {
      "text/html": [
       "<div>\n",
       "<style scoped>\n",
       "    .dataframe tbody tr th:only-of-type {\n",
       "        vertical-align: middle;\n",
       "    }\n",
       "\n",
       "    .dataframe tbody tr th {\n",
       "        vertical-align: top;\n",
       "    }\n",
       "\n",
       "    .dataframe thead th {\n",
       "        text-align: right;\n",
       "    }\n",
       "</style>\n",
       "<table border=\"1\" class=\"dataframe\">\n",
       "  <thead>\n",
       "    <tr style=\"text-align: right;\">\n",
       "      <th></th>\n",
       "      <th>Surname</th>\n",
       "      <th>Name</th>\n",
       "      <th>Login_KNTEU</th>\n",
       "    </tr>\n",
       "  </thead>\n",
       "  <tbody>\n",
       "    <tr>\n",
       "      <th>0</th>\n",
       "      <td>Колесников</td>\n",
       "      <td>Микита</td>\n",
       "      <td>M.Kolesnykov.FIT.122.20.m@knute.edu.ua</td>\n",
       "    </tr>\n",
       "    <tr>\n",
       "      <th>1</th>\n",
       "      <td>Лучук</td>\n",
       "      <td>Артем</td>\n",
       "      <td>A.Luchuk.FIT.122.20.m@knute.edu.ua</td>\n",
       "    </tr>\n",
       "    <tr>\n",
       "      <th>2</th>\n",
       "      <td>Кравченко</td>\n",
       "      <td>Ростислав</td>\n",
       "      <td>R.Kravchenko.FIT.122.20.m@knute.edu.ua</td>\n",
       "    </tr>\n",
       "    <tr>\n",
       "      <th>3</th>\n",
       "      <td>Солодкий</td>\n",
       "      <td>Микола</td>\n",
       "      <td>M.Solodkyy.FIT.122.20.m@knute.edu.ua</td>\n",
       "    </tr>\n",
       "    <tr>\n",
       "      <th>4</th>\n",
       "      <td>Причепа</td>\n",
       "      <td>Владислав</td>\n",
       "      <td>V.Prychepa.FIT.122.20.m@knute.edu.ua</td>\n",
       "    </tr>\n",
       "    <tr>\n",
       "      <th>5</th>\n",
       "      <td>Павлючик</td>\n",
       "      <td>Денис</td>\n",
       "      <td>D.Pavlyuchyk.FIT.122.20.m@knute.edu.ua</td>\n",
       "    </tr>\n",
       "    <tr>\n",
       "      <th>6</th>\n",
       "      <td>Кулініч</td>\n",
       "      <td>Анатолій</td>\n",
       "      <td>A.Kulinich.FIT.122.20.m@knute.edu.ua</td>\n",
       "    </tr>\n",
       "  </tbody>\n",
       "</table>\n",
       "</div>"
      ],
      "text/plain": [
       "      Surname       Name                             Login_KNTEU\n",
       "0  Колесников     Микита  M.Kolesnykov.FIT.122.20.m@knute.edu.ua\n",
       "1       Лучук      Артем      A.Luchuk.FIT.122.20.m@knute.edu.ua\n",
       "2   Кравченко  Ростислав  R.Kravchenko.FIT.122.20.m@knute.edu.ua\n",
       "3    Солодкий     Микола    M.Solodkyy.FIT.122.20.m@knute.edu.ua\n",
       "4     Причепа  Владислав    V.Prychepa.FIT.122.20.m@knute.edu.ua\n",
       "5    Павлючик      Денис  D.Pavlyuchyk.FIT.122.20.m@knute.edu.ua\n",
       "6     Кулініч   Анатолій    A.Kulinich.FIT.122.20.m@knute.edu.ua"
      ]
     },
     "execution_count": 59,
     "metadata": {},
     "output_type": "execute_result"
    }
   ],
   "source": [
    "jornal"
   ]
  },
  {
   "cell_type": "markdown",
   "metadata": {
    "heading_collapsed": true
   },
   "source": [
    "#### ПРИКЛАД ЗБАГАЧЕННЯ ДАНИХ \n",
    "\n",
    "Додати до журналу оцінки за вступне тестування, які розташовані в csv файлі `test_result.csv`"
   ]
  },
  {
   "cell_type": "code",
   "execution_count": 60,
   "metadata": {
    "hidden": true
   },
   "outputs": [
    {
     "ename": "FileNotFoundError",
     "evalue": "[Errno 2] No such file or directory: 'test_result.csv'",
     "output_type": "error",
     "traceback": [
      "\u001b[1;31m---------------------------------------------------------------------------\u001b[0m",
      "\u001b[1;31mFileNotFoundError\u001b[0m                         Traceback (most recent call last)",
      "\u001b[1;32m<ipython-input-60-8ac95d4c0d95>\u001b[0m in \u001b[0;36m<module>\u001b[1;34m\u001b[0m\n\u001b[0;32m      1\u001b[0m \u001b[1;31m# створимо датасет з результатами тестів\u001b[0m\u001b[1;33m\u001b[0m\u001b[1;33m\u001b[0m\u001b[1;33m\u001b[0m\u001b[0m\n\u001b[1;32m----> 2\u001b[1;33m \u001b[0mtest_result\u001b[0m \u001b[1;33m=\u001b[0m \u001b[0mpd\u001b[0m\u001b[1;33m.\u001b[0m\u001b[0mread_csv\u001b[0m\u001b[1;33m(\u001b[0m\u001b[1;34m'test_result.csv'\u001b[0m\u001b[1;33m)\u001b[0m\u001b[1;33m\u001b[0m\u001b[1;33m\u001b[0m\u001b[0m\n\u001b[0m",
      "\u001b[1;32mC:\\ProgramData\\Anaconda3\\lib\\site-packages\\pandas\\io\\parsers.py\u001b[0m in \u001b[0;36mread_csv\u001b[1;34m(filepath_or_buffer, sep, delimiter, header, names, index_col, usecols, squeeze, prefix, mangle_dupe_cols, dtype, engine, converters, true_values, false_values, skipinitialspace, skiprows, skipfooter, nrows, na_values, keep_default_na, na_filter, verbose, skip_blank_lines, parse_dates, infer_datetime_format, keep_date_col, date_parser, dayfirst, cache_dates, iterator, chunksize, compression, thousands, decimal, lineterminator, quotechar, quoting, doublequote, escapechar, comment, encoding, dialect, error_bad_lines, warn_bad_lines, delim_whitespace, low_memory, memory_map, float_precision)\u001b[0m\n\u001b[0;32m    684\u001b[0m     )\n\u001b[0;32m    685\u001b[0m \u001b[1;33m\u001b[0m\u001b[0m\n\u001b[1;32m--> 686\u001b[1;33m     \u001b[1;32mreturn\u001b[0m \u001b[0m_read\u001b[0m\u001b[1;33m(\u001b[0m\u001b[0mfilepath_or_buffer\u001b[0m\u001b[1;33m,\u001b[0m \u001b[0mkwds\u001b[0m\u001b[1;33m)\u001b[0m\u001b[1;33m\u001b[0m\u001b[1;33m\u001b[0m\u001b[0m\n\u001b[0m\u001b[0;32m    687\u001b[0m \u001b[1;33m\u001b[0m\u001b[0m\n\u001b[0;32m    688\u001b[0m \u001b[1;33m\u001b[0m\u001b[0m\n",
      "\u001b[1;32mC:\\ProgramData\\Anaconda3\\lib\\site-packages\\pandas\\io\\parsers.py\u001b[0m in \u001b[0;36m_read\u001b[1;34m(filepath_or_buffer, kwds)\u001b[0m\n\u001b[0;32m    450\u001b[0m \u001b[1;33m\u001b[0m\u001b[0m\n\u001b[0;32m    451\u001b[0m     \u001b[1;31m# Create the parser.\u001b[0m\u001b[1;33m\u001b[0m\u001b[1;33m\u001b[0m\u001b[1;33m\u001b[0m\u001b[0m\n\u001b[1;32m--> 452\u001b[1;33m     \u001b[0mparser\u001b[0m \u001b[1;33m=\u001b[0m \u001b[0mTextFileReader\u001b[0m\u001b[1;33m(\u001b[0m\u001b[0mfp_or_buf\u001b[0m\u001b[1;33m,\u001b[0m \u001b[1;33m**\u001b[0m\u001b[0mkwds\u001b[0m\u001b[1;33m)\u001b[0m\u001b[1;33m\u001b[0m\u001b[1;33m\u001b[0m\u001b[0m\n\u001b[0m\u001b[0;32m    453\u001b[0m \u001b[1;33m\u001b[0m\u001b[0m\n\u001b[0;32m    454\u001b[0m     \u001b[1;32mif\u001b[0m \u001b[0mchunksize\u001b[0m \u001b[1;32mor\u001b[0m \u001b[0miterator\u001b[0m\u001b[1;33m:\u001b[0m\u001b[1;33m\u001b[0m\u001b[1;33m\u001b[0m\u001b[0m\n",
      "\u001b[1;32mC:\\ProgramData\\Anaconda3\\lib\\site-packages\\pandas\\io\\parsers.py\u001b[0m in \u001b[0;36m__init__\u001b[1;34m(self, f, engine, **kwds)\u001b[0m\n\u001b[0;32m    944\u001b[0m             \u001b[0mself\u001b[0m\u001b[1;33m.\u001b[0m\u001b[0moptions\u001b[0m\u001b[1;33m[\u001b[0m\u001b[1;34m\"has_index_names\"\u001b[0m\u001b[1;33m]\u001b[0m \u001b[1;33m=\u001b[0m \u001b[0mkwds\u001b[0m\u001b[1;33m[\u001b[0m\u001b[1;34m\"has_index_names\"\u001b[0m\u001b[1;33m]\u001b[0m\u001b[1;33m\u001b[0m\u001b[1;33m\u001b[0m\u001b[0m\n\u001b[0;32m    945\u001b[0m \u001b[1;33m\u001b[0m\u001b[0m\n\u001b[1;32m--> 946\u001b[1;33m         \u001b[0mself\u001b[0m\u001b[1;33m.\u001b[0m\u001b[0m_make_engine\u001b[0m\u001b[1;33m(\u001b[0m\u001b[0mself\u001b[0m\u001b[1;33m.\u001b[0m\u001b[0mengine\u001b[0m\u001b[1;33m)\u001b[0m\u001b[1;33m\u001b[0m\u001b[1;33m\u001b[0m\u001b[0m\n\u001b[0m\u001b[0;32m    947\u001b[0m \u001b[1;33m\u001b[0m\u001b[0m\n\u001b[0;32m    948\u001b[0m     \u001b[1;32mdef\u001b[0m \u001b[0mclose\u001b[0m\u001b[1;33m(\u001b[0m\u001b[0mself\u001b[0m\u001b[1;33m)\u001b[0m\u001b[1;33m:\u001b[0m\u001b[1;33m\u001b[0m\u001b[1;33m\u001b[0m\u001b[0m\n",
      "\u001b[1;32mC:\\ProgramData\\Anaconda3\\lib\\site-packages\\pandas\\io\\parsers.py\u001b[0m in \u001b[0;36m_make_engine\u001b[1;34m(self, engine)\u001b[0m\n\u001b[0;32m   1176\u001b[0m     \u001b[1;32mdef\u001b[0m \u001b[0m_make_engine\u001b[0m\u001b[1;33m(\u001b[0m\u001b[0mself\u001b[0m\u001b[1;33m,\u001b[0m \u001b[0mengine\u001b[0m\u001b[1;33m=\u001b[0m\u001b[1;34m\"c\"\u001b[0m\u001b[1;33m)\u001b[0m\u001b[1;33m:\u001b[0m\u001b[1;33m\u001b[0m\u001b[1;33m\u001b[0m\u001b[0m\n\u001b[0;32m   1177\u001b[0m         \u001b[1;32mif\u001b[0m \u001b[0mengine\u001b[0m \u001b[1;33m==\u001b[0m \u001b[1;34m\"c\"\u001b[0m\u001b[1;33m:\u001b[0m\u001b[1;33m\u001b[0m\u001b[1;33m\u001b[0m\u001b[0m\n\u001b[1;32m-> 1178\u001b[1;33m             \u001b[0mself\u001b[0m\u001b[1;33m.\u001b[0m\u001b[0m_engine\u001b[0m \u001b[1;33m=\u001b[0m \u001b[0mCParserWrapper\u001b[0m\u001b[1;33m(\u001b[0m\u001b[0mself\u001b[0m\u001b[1;33m.\u001b[0m\u001b[0mf\u001b[0m\u001b[1;33m,\u001b[0m \u001b[1;33m**\u001b[0m\u001b[0mself\u001b[0m\u001b[1;33m.\u001b[0m\u001b[0moptions\u001b[0m\u001b[1;33m)\u001b[0m\u001b[1;33m\u001b[0m\u001b[1;33m\u001b[0m\u001b[0m\n\u001b[0m\u001b[0;32m   1179\u001b[0m         \u001b[1;32melse\u001b[0m\u001b[1;33m:\u001b[0m\u001b[1;33m\u001b[0m\u001b[1;33m\u001b[0m\u001b[0m\n\u001b[0;32m   1180\u001b[0m             \u001b[1;32mif\u001b[0m \u001b[0mengine\u001b[0m \u001b[1;33m==\u001b[0m \u001b[1;34m\"python\"\u001b[0m\u001b[1;33m:\u001b[0m\u001b[1;33m\u001b[0m\u001b[1;33m\u001b[0m\u001b[0m\n",
      "\u001b[1;32mC:\\ProgramData\\Anaconda3\\lib\\site-packages\\pandas\\io\\parsers.py\u001b[0m in \u001b[0;36m__init__\u001b[1;34m(self, src, **kwds)\u001b[0m\n\u001b[0;32m   2006\u001b[0m         \u001b[0mkwds\u001b[0m\u001b[1;33m[\u001b[0m\u001b[1;34m\"usecols\"\u001b[0m\u001b[1;33m]\u001b[0m \u001b[1;33m=\u001b[0m \u001b[0mself\u001b[0m\u001b[1;33m.\u001b[0m\u001b[0musecols\u001b[0m\u001b[1;33m\u001b[0m\u001b[1;33m\u001b[0m\u001b[0m\n\u001b[0;32m   2007\u001b[0m \u001b[1;33m\u001b[0m\u001b[0m\n\u001b[1;32m-> 2008\u001b[1;33m         \u001b[0mself\u001b[0m\u001b[1;33m.\u001b[0m\u001b[0m_reader\u001b[0m \u001b[1;33m=\u001b[0m \u001b[0mparsers\u001b[0m\u001b[1;33m.\u001b[0m\u001b[0mTextReader\u001b[0m\u001b[1;33m(\u001b[0m\u001b[0msrc\u001b[0m\u001b[1;33m,\u001b[0m \u001b[1;33m**\u001b[0m\u001b[0mkwds\u001b[0m\u001b[1;33m)\u001b[0m\u001b[1;33m\u001b[0m\u001b[1;33m\u001b[0m\u001b[0m\n\u001b[0m\u001b[0;32m   2009\u001b[0m         \u001b[0mself\u001b[0m\u001b[1;33m.\u001b[0m\u001b[0munnamed_cols\u001b[0m \u001b[1;33m=\u001b[0m \u001b[0mself\u001b[0m\u001b[1;33m.\u001b[0m\u001b[0m_reader\u001b[0m\u001b[1;33m.\u001b[0m\u001b[0munnamed_cols\u001b[0m\u001b[1;33m\u001b[0m\u001b[1;33m\u001b[0m\u001b[0m\n\u001b[0;32m   2010\u001b[0m \u001b[1;33m\u001b[0m\u001b[0m\n",
      "\u001b[1;32mpandas\\_libs\\parsers.pyx\u001b[0m in \u001b[0;36mpandas._libs.parsers.TextReader.__cinit__\u001b[1;34m()\u001b[0m\n",
      "\u001b[1;32mpandas\\_libs\\parsers.pyx\u001b[0m in \u001b[0;36mpandas._libs.parsers.TextReader._setup_parser_source\u001b[1;34m()\u001b[0m\n",
      "\u001b[1;31mFileNotFoundError\u001b[0m: [Errno 2] No such file or directory: 'test_result.csv'"
     ]
    }
   ],
   "source": [
    "# створимо датасет з результатами тестів\n",
    "test_result = pd.read_csv('test_result.csv')"
   ]
  },
  {
   "cell_type": "code",
   "execution_count": 61,
   "metadata": {
    "hidden": true
   },
   "outputs": [
    {
     "ename": "NameError",
     "evalue": "name 'test_result' is not defined",
     "output_type": "error",
     "traceback": [
      "\u001b[1;31m---------------------------------------------------------------------------\u001b[0m",
      "\u001b[1;31mNameError\u001b[0m                                 Traceback (most recent call last)",
      "\u001b[1;32m<ipython-input-61-745dc54acefe>\u001b[0m in \u001b[0;36m<module>\u001b[1;34m\u001b[0m\n\u001b[1;32m----> 1\u001b[1;33m \u001b[0mtest_result\u001b[0m\u001b[1;33m.\u001b[0m\u001b[0mhead\u001b[0m\u001b[1;33m(\u001b[0m\u001b[1;36m5\u001b[0m\u001b[1;33m)\u001b[0m\u001b[1;33m\u001b[0m\u001b[1;33m\u001b[0m\u001b[0m\n\u001b[0m",
      "\u001b[1;31mNameError\u001b[0m: name 'test_result' is not defined"
     ]
    }
   ],
   "source": [
    "test_result.head(5)"
   ]
  },
  {
   "cell_type": "code",
   "execution_count": 62,
   "metadata": {
    "hidden": true
   },
   "outputs": [
    {
     "ename": "NameError",
     "evalue": "name 'test_result' is not defined",
     "output_type": "error",
     "traceback": [
      "\u001b[1;31m---------------------------------------------------------------------------\u001b[0m",
      "\u001b[1;31mNameError\u001b[0m                                 Traceback (most recent call last)",
      "\u001b[1;32m<ipython-input-62-edd9ecfe303a>\u001b[0m in \u001b[0;36m<module>\u001b[1;34m\u001b[0m\n\u001b[0;32m      1\u001b[0m \u001b[1;31m# переіменуємо робочі поля для зручності\u001b[0m\u001b[1;33m\u001b[0m\u001b[1;33m\u001b[0m\u001b[1;33m\u001b[0m\u001b[0m\n\u001b[1;32m----> 2\u001b[1;33m \u001b[0mtest_result\u001b[0m\u001b[1;33m.\u001b[0m\u001b[0mrename\u001b[0m\u001b[1;33m(\u001b[0m\u001b[0mcolumns\u001b[0m\u001b[1;33m=\u001b[0m\u001b[1;33m{\u001b[0m\u001b[1;34m\"Ім'я\"\u001b[0m\u001b[1;33m:\u001b[0m \u001b[1;34m\"Name\"\u001b[0m\u001b[1;33m,\u001b[0m \u001b[1;34m\"Оцінка/100\"\u001b[0m\u001b[1;33m:\u001b[0m \u001b[1;34m\"Rate\"\u001b[0m\u001b[1;33m}\u001b[0m\u001b[1;33m,\u001b[0m \u001b[0minplace\u001b[0m\u001b[1;33m=\u001b[0m\u001b[1;32mTrue\u001b[0m\u001b[1;33m)\u001b[0m\u001b[1;33m\u001b[0m\u001b[1;33m\u001b[0m\u001b[0m\n\u001b[0m",
      "\u001b[1;31mNameError\u001b[0m: name 'test_result' is not defined"
     ]
    }
   ],
   "source": [
    "# переіменуємо робочі поля для зручності\n",
    "test_result.rename(columns={\"Ім'я\": \"Name\", \"Оцінка/100\": \"Rate\"}, inplace=True)"
   ]
  },
  {
   "cell_type": "markdown",
   "metadata": {
    "hidden": true
   },
   "source": [
    "##### Cтворимо новий датасет `jornal_test`, який буде містити вміст датасету `jornal` та колонку оцінок з  `test_result`\n",
    "\n"
   ]
  },
  {
   "cell_type": "code",
   "execution_count": null,
   "metadata": {
    "hidden": true
   },
   "outputs": [],
   "source": [
    "# виконаємо поєднання через метод 'merge':\n",
    "#   лівий дадатсет - беремо всі колонки з 'jornal'\n",
    "#   правий датасет - беремо дві колонки з 'test_result'\n",
    "\n",
    "jornal_test = jornal.merge(test_result[[\"Name\", \"Rate\"]], \n",
    "                           left_on=\"Surname\", right_on=\"Name\", how='left')"
   ]
  },
  {
   "cell_type": "code",
   "execution_count": null,
   "metadata": {
    "hidden": true
   },
   "outputs": [],
   "source": [
    "jornal_test"
   ]
  },
  {
   "cell_type": "code",
   "execution_count": null,
   "metadata": {
    "hidden": true
   },
   "outputs": [],
   "source": [
    "# приведемо датасет до виду для подальшого аналізу:\n",
    "#   - змінемо ім'я колонки 'Name_x' на 'Name'\n",
    "#   - видалимо зайву колонку 'Name_y'\n",
    "#   - відсортеруємо по колонці 'Surname'\n",
    "\n",
    "jornal_test = jornal_test.rename(columns={\"Name_x\": \"Name\"}) \\\n",
    "                         .drop(columns=\"Name_y\")             \\\n",
    "                         .sort_values(\"Surname\", axis=0)"
   ]
  },
  {
   "cell_type": "code",
   "execution_count": null,
   "metadata": {
    "hidden": true
   },
   "outputs": [],
   "source": [
    "jornal_test"
   ]
  },
  {
   "cell_type": "markdown",
   "metadata": {
    "heading_collapsed": true
   },
   "source": [
    "#### ПРИКЛАД  ДЕСКРИПТИВНОГО АНАЛІЗУ ДАНИХ\n",
    "\n",
    "Провести [попередній аналіз](https://ru.wikipedia.org/wiki/Описательная_статистика) отриманих даних з ціллю виявленя відхилень, помилок та інших непридатних даних."
   ]
  },
  {
   "cell_type": "markdown",
   "metadata": {
    "hidden": true
   },
   "source": [
    "Сведемо результати аналізу в таблицю, яка має наступний вигляд:\n",
    "\n",
    "№| Показчик | Значення\n",
    ":--:|:-------|-------:\n",
    "1| кількість спостережень | xx \n",
    "2| кількість пустих значень | xx\n",
    "4| середній бал|  xx.x\n",
    "5| максимальний бал | xx\n",
    "6| мінімальний бал  | xx\n",
    "7| стандартне відхилення | xx.x\n",
    "8| розмах вариації  | xx\n"
   ]
  },
  {
   "cell_type": "code",
   "execution_count": 54,
   "metadata": {
    "hidden": true
   },
   "outputs": [
    {
     "ename": "NameError",
     "evalue": "name 'jornal_test' is not defined",
     "output_type": "error",
     "traceback": [
      "\u001b[1;31m---------------------------------------------------------------------------\u001b[0m",
      "\u001b[1;31mNameError\u001b[0m                                 Traceback (most recent call last)",
      "\u001b[1;32m<ipython-input-54-9532077cee9c>\u001b[0m in \u001b[0;36m<module>\u001b[1;34m\u001b[0m\n\u001b[1;32m----> 1\u001b[1;33m \u001b[0mjornal_test\u001b[0m\u001b[1;33m.\u001b[0m\u001b[0mdescribe\u001b[0m\u001b[1;33m(\u001b[0m\u001b[1;33m)\u001b[0m\u001b[1;33m\u001b[0m\u001b[1;33m\u001b[0m\u001b[0m\n\u001b[0m",
      "\u001b[1;31mNameError\u001b[0m: name 'jornal_test' is not defined"
     ]
    }
   ],
   "source": [
    "jornal_test.describe()"
   ]
  },
  {
   "cell_type": "code",
   "execution_count": null,
   "metadata": {
    "hidden": true,
    "run_control": {
     "marked": false
    }
   },
   "outputs": [],
   "source": [
    "# сведемо розрахункові показчики у 2-мірну матрицю\n",
    "values = [\n",
    "    [\"Кількість спостережень\",   jornal_test.count()[\"Surname\"]],\n",
    "    [\"Кількість пустих значень\", jornal_test.count()[\"Rate\"]],\n",
    "    [\"Середній бал\",             jornal_test.mean()[\"Rate\"]],\n",
    "    [\"Максимальний бал\",         jornal_test.max()[\"Rate\"]],\n",
    "    [\"Мінімальний бал\",          jornal_test.max()[\"Rate\"]],\n",
    "    [\"Стандартне відхилення\",    jornal_test.std()[\"Rate\"]],\n",
    "    [\"Розмах вариації\",          jornal_test.max()[\"Rate\"] - jornal_test.min()[\"Rate\"]]\n",
    "]"
   ]
  },
  {
   "cell_type": "code",
   "execution_count": null,
   "metadata": {
    "hidden": true
   },
   "outputs": [],
   "source": [
    "values"
   ]
  },
  {
   "cell_type": "code",
   "execution_count": null,
   "metadata": {
    "hidden": true,
    "run_control": {
     "marked": false
    }
   },
   "outputs": [],
   "source": [
    "# будуємо результатний датасет\n",
    "result = pd.DataFrame( data=values, columns=[\"Показчик\", \"Значення\"], dtype='object')"
   ]
  },
  {
   "cell_type": "code",
   "execution_count": null,
   "metadata": {
    "hidden": true,
    "scrolled": true
   },
   "outputs": [],
   "source": [
    "result"
   ]
  },
  {
   "cell_type": "markdown",
   "metadata": {},
   "source": [
    "### ІНДИВІДУАЛЬНЕ ЗАВДАННЯ"
   ]
  },
  {
   "cell_type": "markdown",
   "metadata": {},
   "source": [
    "Користуючись результатами, що отримані в [Лабораторній роботі № 3](https://shkliarskiy.moodlecloud.com/mod/page/view.php?id=1193) виконати процедури видобутку, збагачення та попереднього аналізу даних за допомогою ббліотеки __Pandas__.\n",
    "\n",
    "__Постановка__: В 3-й лабораторній роботі отримано показчик, що характеризує окрему властивість квартири (ціна, метраж та ін.). \n",
    "Необхідно:\n",
    "1. Створити pandas-датасет з файлу `aprt_properties.csv`, який містить всі показчики квартир \n",
    "2. Прив'язати цей датасет до датасету з розбивкою вулиць по районам\n",
    "3. Отримати сводний датасет у вигляді (*приклад*):\n",
    "<img src='result_img.png' width=600px>"
   ]
  },
  {
   "cell_type": "code",
   "execution_count": 2,
   "metadata": {
    "run_control": {
     "marked": true
    }
   },
   "outputs": [
    {
     "name": "stdout",
     "output_type": "stream",
     "text": [
      "['BooleanDtype', 'Categorical', 'CategoricalDtype', 'CategoricalIndex', 'DataFrame', 'DateOffset', 'DatetimeIndex', 'DatetimeTZDtype', 'ExcelFile', 'ExcelWriter', 'Float64Index', 'Grouper', 'HDFStore', 'Index', 'IndexSlice', 'Int16Dtype', 'Int32Dtype', 'Int64Dtype', 'Int64Index', 'Int8Dtype', 'Interval', 'IntervalDtype', 'IntervalIndex', 'MultiIndex', 'NA', 'NaT', 'NamedAgg', 'Period', 'PeriodDtype', 'PeriodIndex', 'RangeIndex', 'Series', 'SparseDtype', 'StringDtype', 'Timedelta', 'TimedeltaIndex', 'Timestamp', 'UInt16Dtype', 'UInt32Dtype', 'UInt64Dtype', 'UInt64Index', 'UInt8Dtype', '__builtins__', '__cached__', '__doc__', '__docformat__', '__file__', '__getattr__', '__git_version__', '__loader__', '__name__', '__package__', '__path__', '__spec__', '__version__', '_config', '_hashtable', '_is_numpy_dev', '_lib', '_libs', '_np_version_under1p16', '_np_version_under1p17', '_np_version_under1p18', '_testing', '_tslib', '_typing', '_version', 'api', 'array', 'arrays', 'bdate_range', 'compat', 'concat', 'core', 'crosstab', 'cut', 'date_range', 'describe_option', 'errors', 'eval', 'factorize', 'get_dummies', 'get_option', 'infer_freq', 'interval_range', 'io', 'isna', 'isnull', 'json_normalize', 'lreshape', 'melt', 'merge', 'merge_asof', 'merge_ordered', 'notna', 'notnull', 'offsets', 'option_context', 'options', 'pandas', 'period_range', 'pivot', 'pivot_table', 'plotting', 'qcut', 'read_clipboard', 'read_csv', 'read_excel', 'read_feather', 'read_fwf', 'read_gbq', 'read_hdf', 'read_html', 'read_json', 'read_orc', 'read_parquet', 'read_pickle', 'read_sas', 'read_spss', 'read_sql', 'read_sql_query', 'read_sql_table', 'read_stata', 'read_table', 'reset_option', 'set_eng_float_format', 'set_option', 'show_versions', 'test', 'testing', 'timedelta_range', 'to_datetime', 'to_numeric', 'to_pickle', 'to_timedelta', 'tseries', 'unique', 'util', 'value_counts', 'wide_to_long']\n"
     ]
    }
   ],
   "source": [
    "# імпортувати бібліотеку Pandas\n",
    "import pandas as pd\n",
    "print(dir(pd))"
   ]
  },
  {
   "cell_type": "code",
   "execution_count": 3,
   "metadata": {
    "run_control": {
     "marked": true
    }
   },
   "outputs": [],
   "source": [
    "# створирти датасет 'aprt_properties' з файлу 'aprt_properties.csv'\n",
    "aprt_properties = pd.read_csv('aprt_properties.csv')"
   ]
  },
  {
   "cell_type": "code",
   "execution_count": 4,
   "metadata": {
    "run_control": {
     "marked": true
    }
   },
   "outputs": [
    {
     "data": {
      "text/html": [
       "<div>\n",
       "<style scoped>\n",
       "    .dataframe tbody tr th:only-of-type {\n",
       "        vertical-align: middle;\n",
       "    }\n",
       "\n",
       "    .dataframe tbody tr th {\n",
       "        vertical-align: top;\n",
       "    }\n",
       "\n",
       "    .dataframe thead th {\n",
       "        text-align: right;\n",
       "    }\n",
       "</style>\n",
       "<table border=\"1\" class=\"dataframe\">\n",
       "  <thead>\n",
       "    <tr style=\"text-align: right;\">\n",
       "      <th></th>\n",
       "      <th>Price</th>\n",
       "      <th>rooms</th>\n",
       "      <th>price_per_m2</th>\n",
       "      <th>level</th>\n",
       "      <th>levels</th>\n",
       "      <th>year</th>\n",
       "      <th>area_total</th>\n",
       "      <th>area_living</th>\n",
       "      <th>area_kitchen</th>\n",
       "      <th>street</th>\n",
       "      <th>publish_date</th>\n",
       "    </tr>\n",
       "  </thead>\n",
       "  <tbody>\n",
       "    <tr>\n",
       "      <th>0</th>\n",
       "      <td>140000.0</td>\n",
       "      <td>2</td>\n",
       "      <td>2258.0</td>\n",
       "      <td>7</td>\n",
       "      <td>9</td>\n",
       "      <td>1969</td>\n",
       "      <td>62.0</td>\n",
       "      <td>47.0</td>\n",
       "      <td>9.0</td>\n",
       "      <td>Омеляновича-Павленка</td>\n",
       "      <td>3 вересня 2020 р.</td>\n",
       "    </tr>\n",
       "    <tr>\n",
       "      <th>1</th>\n",
       "      <td>105000.0</td>\n",
       "      <td>4</td>\n",
       "      <td>847.0</td>\n",
       "      <td>25</td>\n",
       "      <td>26</td>\n",
       "      <td>2018</td>\n",
       "      <td>124.0</td>\n",
       "      <td>71.0</td>\n",
       "      <td>16.0</td>\n",
       "      <td>NaN</td>\n",
       "      <td>7 жовтня 2020 р.</td>\n",
       "    </tr>\n",
       "    <tr>\n",
       "      <th>2</th>\n",
       "      <td>175000.0</td>\n",
       "      <td>3</td>\n",
       "      <td>1786.0</td>\n",
       "      <td>25</td>\n",
       "      <td>26</td>\n",
       "      <td>2010</td>\n",
       "      <td>98.0</td>\n",
       "      <td>None</td>\n",
       "      <td>None</td>\n",
       "      <td>Ованеса Туманяна</td>\n",
       "      <td>1 жовтня 2020 р.</td>\n",
       "    </tr>\n",
       "    <tr>\n",
       "      <th>3</th>\n",
       "      <td>30970.0</td>\n",
       "      <td>1</td>\n",
       "      <td>1106.0</td>\n",
       "      <td>12</td>\n",
       "      <td>13</td>\n",
       "      <td>2013</td>\n",
       "      <td>28.0</td>\n",
       "      <td>13.0</td>\n",
       "      <td>5.0</td>\n",
       "      <td>Петропавлівська</td>\n",
       "      <td>1 лютого</td>\n",
       "    </tr>\n",
       "    <tr>\n",
       "      <th>4</th>\n",
       "      <td>82000.0</td>\n",
       "      <td>2</td>\n",
       "      <td>1281.0</td>\n",
       "      <td>18</td>\n",
       "      <td>26</td>\n",
       "      <td>None</td>\n",
       "      <td>64.0</td>\n",
       "      <td>None</td>\n",
       "      <td>None</td>\n",
       "      <td>Дніпровська</td>\n",
       "      <td>*** not found</td>\n",
       "    </tr>\n",
       "    <tr>\n",
       "      <th>5</th>\n",
       "      <td>168535.7</td>\n",
       "      <td>3</td>\n",
       "      <td>1872.6</td>\n",
       "      <td>4</td>\n",
       "      <td>9</td>\n",
       "      <td>1966</td>\n",
       "      <td>90.0</td>\n",
       "      <td>45.0</td>\n",
       "      <td>10.0</td>\n",
       "      <td>Саксаганського</td>\n",
       "      <td>28 жовтня 2020 р.</td>\n",
       "    </tr>\n",
       "    <tr>\n",
       "      <th>6</th>\n",
       "      <td>4500000.0</td>\n",
       "      <td>4</td>\n",
       "      <td>14610.0</td>\n",
       "      <td>18</td>\n",
       "      <td>21</td>\n",
       "      <td>2011</td>\n",
       "      <td>308.0</td>\n",
       "      <td>None</td>\n",
       "      <td>None</td>\n",
       "      <td>Івана Мазепи</td>\n",
       "      <td>19 жовтня 2020 р.</td>\n",
       "    </tr>\n",
       "    <tr>\n",
       "      <th>7</th>\n",
       "      <td>135000.0</td>\n",
       "      <td>2</td>\n",
       "      <td>2077.0</td>\n",
       "      <td>16</td>\n",
       "      <td>23</td>\n",
       "      <td>2012</td>\n",
       "      <td>65.0</td>\n",
       "      <td>25.0</td>\n",
       "      <td>18.0</td>\n",
       "      <td>Дніпровська</td>\n",
       "      <td>1 вересня 2020 р.</td>\n",
       "    </tr>\n",
       "    <tr>\n",
       "      <th>8</th>\n",
       "      <td>120000.0</td>\n",
       "      <td>1</td>\n",
       "      <td>2500.0</td>\n",
       "      <td>8</td>\n",
       "      <td>25</td>\n",
       "      <td>2012</td>\n",
       "      <td>48.0</td>\n",
       "      <td>18.0</td>\n",
       "      <td>16.0</td>\n",
       "      <td>Ділова</td>\n",
       "      <td>12 жовтня 2020 р.</td>\n",
       "    </tr>\n",
       "    <tr>\n",
       "      <th>9</th>\n",
       "      <td>57500.0</td>\n",
       "      <td>3</td>\n",
       "      <td>625.0</td>\n",
       "      <td>9</td>\n",
       "      <td>9</td>\n",
       "      <td>1970</td>\n",
       "      <td>92.0</td>\n",
       "      <td>None</td>\n",
       "      <td>None</td>\n",
       "      <td>Новодарницька</td>\n",
       "      <td>5 жовтня 2020 р.</td>\n",
       "    </tr>\n",
       "  </tbody>\n",
       "</table>\n",
       "</div>"
      ],
      "text/plain": [
       "       Price rooms price_per_m2 level levels  year area_total area_living  \\\n",
       "0   140000.0     2       2258.0     7      9  1969       62.0        47.0   \n",
       "1   105000.0     4        847.0    25     26  2018      124.0        71.0   \n",
       "2   175000.0     3       1786.0    25     26  2010       98.0        None   \n",
       "3    30970.0     1       1106.0    12     13  2013       28.0        13.0   \n",
       "4    82000.0     2       1281.0    18     26  None       64.0        None   \n",
       "5   168535.7     3       1872.6     4      9  1966       90.0        45.0   \n",
       "6  4500000.0     4      14610.0    18     21  2011      308.0        None   \n",
       "7   135000.0     2       2077.0    16     23  2012       65.0        25.0   \n",
       "8   120000.0     1       2500.0     8     25  2012       48.0        18.0   \n",
       "9    57500.0     3        625.0     9      9  1970       92.0        None   \n",
       "\n",
       "  area_kitchen                street       publish_date  \n",
       "0          9.0  Омеляновича-Павленка  3 вересня 2020 р.  \n",
       "1         16.0                   NaN   7 жовтня 2020 р.  \n",
       "2         None      Ованеса Туманяна   1 жовтня 2020 р.  \n",
       "3          5.0       Петропавлівська           1 лютого  \n",
       "4         None           Дніпровська      *** not found  \n",
       "5         10.0        Саксаганського  28 жовтня 2020 р.  \n",
       "6         None          Івана Мазепи  19 жовтня 2020 р.  \n",
       "7         18.0           Дніпровська  1 вересня 2020 р.  \n",
       "8         16.0                Ділова  12 жовтня 2020 р.  \n",
       "9         None         Новодарницька   5 жовтня 2020 р.  "
      ]
     },
     "execution_count": 4,
     "metadata": {},
     "output_type": "execute_result"
    }
   ],
   "source": [
    "# вивести перші десять рядків датасету\n",
    "aprt_properties.head(10)"
   ]
  },
  {
   "cell_type": "code",
   "execution_count": 7,
   "metadata": {
    "code_folding": []
   },
   "outputs": [],
   "source": [
    "# створити датасет 'reestr' з прив'язкою вуліць до районів з excel-файлу\n",
    "# `Реєстр вулиць міста Києва-станом на 25-10-2020.xlsx`\n",
    "\n",
    "reestr = pd.read_excel('Реєстр вулиць міста Києва-станом на 25-10-2020.xlsx',\n",
    "                       names= [\n",
    "                                 '№',\n",
    "                                 'код',\n",
    "                                 'Вулиця',\n",
    "                                 'тип',\n",
    "                                 'Район',\n",
    "                                 'Документ',\n",
    "                                 'Дата документу',\n",
    "                                 'Номер документу',\n",
    "                                 'Заголовок документу',\n",
    "                                 'розташування',\n",
    "                                 'Найменування',\n",
    "                                 'Категорія'\n",
    "                       ],\n",
    "                       header=None, skiprows=range(4), index_col=0)"
   ]
  },
  {
   "cell_type": "code",
   "execution_count": 8,
   "metadata": {
    "run_control": {
     "marked": true
    }
   },
   "outputs": [
    {
     "data": {
      "text/html": [
       "<div>\n",
       "<style scoped>\n",
       "    .dataframe tbody tr th:only-of-type {\n",
       "        vertical-align: middle;\n",
       "    }\n",
       "\n",
       "    .dataframe tbody tr th {\n",
       "        vertical-align: top;\n",
       "    }\n",
       "\n",
       "    .dataframe thead th {\n",
       "        text-align: right;\n",
       "    }\n",
       "</style>\n",
       "<table border=\"1\" class=\"dataframe\">\n",
       "  <thead>\n",
       "    <tr style=\"text-align: right;\">\n",
       "      <th></th>\n",
       "      <th>код</th>\n",
       "      <th>street</th>\n",
       "      <th>тип</th>\n",
       "      <th>Район</th>\n",
       "      <th>Документ</th>\n",
       "      <th>Дата документу</th>\n",
       "      <th>Номер документу</th>\n",
       "      <th>Заголовок документу</th>\n",
       "      <th>розташування</th>\n",
       "      <th>Найменування</th>\n",
       "      <th>Категорія</th>\n",
       "    </tr>\n",
       "    <tr>\n",
       "      <th>№</th>\n",
       "      <th></th>\n",
       "      <th></th>\n",
       "      <th></th>\n",
       "      <th></th>\n",
       "      <th></th>\n",
       "      <th></th>\n",
       "      <th></th>\n",
       "      <th></th>\n",
       "      <th></th>\n",
       "      <th></th>\n",
       "      <th></th>\n",
       "    </tr>\n",
       "  </thead>\n",
       "  <tbody>\n",
       "    <tr>\n",
       "      <th>2839</th>\n",
       "      <td>11963</td>\n",
       "      <td>Яслинська</td>\n",
       "      <td>вулиця</td>\n",
       "      <td>Солом'янський</td>\n",
       "      <td>-</td>\n",
       "      <td>-</td>\n",
       "      <td>-</td>\n",
       "      <td>-</td>\n",
       "      <td>Сучасна назва з 1912. Пролягає від Клінічної в...</td>\n",
       "      <td>NaN</td>\n",
       "      <td>NaN</td>\n",
       "    </tr>\n",
       "    <tr>\n",
       "      <th>2840</th>\n",
       "      <td>11964</td>\n",
       "      <td>Ясна</td>\n",
       "      <td>вулиця</td>\n",
       "      <td>Солом'янський</td>\n",
       "      <td>Постанова виконавчого комітету Київської міськ...</td>\n",
       "      <td>1944-12-06 00:00:00</td>\n",
       "      <td>286/2</td>\n",
       "      <td>Про впорядкування найменувань площ, вулиць та ...</td>\n",
       "      <td>Пролягає від Кайсарова, вул. до Каменярів, вул.</td>\n",
       "      <td>NaN</td>\n",
       "      <td>NaN</td>\n",
       "    </tr>\n",
       "    <tr>\n",
       "      <th>2841</th>\n",
       "      <td>11965</td>\n",
       "      <td>Ясний</td>\n",
       "      <td>провулок</td>\n",
       "      <td>Солом'янський</td>\n",
       "      <td>-</td>\n",
       "      <td>-</td>\n",
       "      <td>-</td>\n",
       "      <td>-</td>\n",
       "      <td>Сучасна назва з 1958. Пролягає від Ясної вул. ...</td>\n",
       "      <td>NaN</td>\n",
       "      <td>NaN</td>\n",
       "    </tr>\n",
       "    <tr>\n",
       "      <th>2842</th>\n",
       "      <td>11966</td>\n",
       "      <td>Ясногірська</td>\n",
       "      <td>вулиця</td>\n",
       "      <td>Шевченківський</td>\n",
       "      <td>Рішення виконавчого комітету Київської міської...</td>\n",
       "      <td>1953-12-29 00:00:00</td>\n",
       "      <td>2610</td>\n",
       "      <td>«Про найменування міських вулиць»</td>\n",
       "      <td>Пролягає від Сальського Володимира, вул. до кі...</td>\n",
       "      <td>NaN</td>\n",
       "      <td>NaN</td>\n",
       "    </tr>\n",
       "    <tr>\n",
       "      <th>2843</th>\n",
       "      <td>11967</td>\n",
       "      <td>Яснополянська</td>\n",
       "      <td>вулиця</td>\n",
       "      <td>Святошинський</td>\n",
       "      <td>Рішення виконавчого комітету Київської міської...</td>\n",
       "      <td>1955-07-05 00:00:00</td>\n",
       "      <td>857</td>\n",
       "      <td>«Про перейменування вулиць м. Києва»</td>\n",
       "      <td>Пролягає від Сільської вул. до кінця забудови.</td>\n",
       "      <td>NaN</td>\n",
       "      <td>NaN</td>\n",
       "    </tr>\n",
       "  </tbody>\n",
       "</table>\n",
       "</div>"
      ],
      "text/plain": [
       "        код         street       тип           Район  \\\n",
       "№                                                      \n",
       "2839  11963      Яслинська    вулиця   Солом'янський   \n",
       "2840  11964           Ясна    вулиця   Солом'янський   \n",
       "2841  11965          Ясний  провулок   Солом'янський   \n",
       "2842  11966    Ясногірська    вулиця  Шевченківський   \n",
       "2843  11967  Яснополянська    вулиця   Святошинський   \n",
       "\n",
       "                                               Документ       Дата документу  \\\n",
       "№                                                                              \n",
       "2839                                                  -                    -   \n",
       "2840  Постанова виконавчого комітету Київської міськ...  1944-12-06 00:00:00   \n",
       "2841                                                  -                    -   \n",
       "2842  Рішення виконавчого комітету Київської міської...  1953-12-29 00:00:00   \n",
       "2843  Рішення виконавчого комітету Київської міської...  1955-07-05 00:00:00   \n",
       "\n",
       "     Номер документу                                Заголовок документу  \\\n",
       "№                                                                         \n",
       "2839               -                                                  -   \n",
       "2840           286/2  Про впорядкування найменувань площ, вулиць та ...   \n",
       "2841               -                                                  -   \n",
       "2842            2610                 «Про найменування міських вулиць»    \n",
       "2843             857               «Про перейменування вулиць м. Києва»   \n",
       "\n",
       "                                           розташування Найменування Категорія  \n",
       "№                                                                               \n",
       "2839  Сучасна назва з 1912. Пролягає від Клінічної в...          NaN       NaN  \n",
       "2840    Пролягає від Кайсарова, вул. до Каменярів, вул.          NaN       NaN  \n",
       "2841  Сучасна назва з 1958. Пролягає від Ясної вул. ...          NaN       NaN  \n",
       "2842  Пролягає від Сальського Володимира, вул. до кі...          NaN       NaN  \n",
       "2843     Пролягає від Сільської вул. до кінця забудови.          NaN       NaN  "
      ]
     },
     "execution_count": 8,
     "metadata": {},
     "output_type": "execute_result"
    }
   ],
   "source": [
    "# переіменуємо робочі поля для зручності\n",
    "reestr.rename(columns={\"Вулиця\": \"street\"}, inplace=True)\n",
    "# вивести 5 останніх рядків датасету `reestr`  \n",
    "reestr.tail(5)"
   ]
  },
  {
   "cell_type": "code",
   "execution_count": 9,
   "metadata": {
    "run_control": {
     "marked": true
    }
   },
   "outputs": [],
   "source": [
    "# приєднати райони з датасету 'reestr' до датасету 'aprt_properties' по загальному полю\n",
    "\n",
    "street_district = aprt_properties.merge(reestr[[\"street\", \"Район\"]], on=\"street\", how='left')"
   ]
  },
  {
   "cell_type": "code",
   "execution_count": 10,
   "metadata": {
    "run_control": {
     "marked": true
    }
   },
   "outputs": [
    {
     "data": {
      "text/html": [
       "<div>\n",
       "<style scoped>\n",
       "    .dataframe tbody tr th:only-of-type {\n",
       "        vertical-align: middle;\n",
       "    }\n",
       "\n",
       "    .dataframe tbody tr th {\n",
       "        vertical-align: top;\n",
       "    }\n",
       "\n",
       "    .dataframe thead th {\n",
       "        text-align: right;\n",
       "    }\n",
       "</style>\n",
       "<table border=\"1\" class=\"dataframe\">\n",
       "  <thead>\n",
       "    <tr style=\"text-align: right;\">\n",
       "      <th></th>\n",
       "      <th>Price</th>\n",
       "      <th>rooms</th>\n",
       "      <th>price_per_m2</th>\n",
       "      <th>level</th>\n",
       "      <th>levels</th>\n",
       "      <th>year</th>\n",
       "      <th>area_total</th>\n",
       "      <th>area_living</th>\n",
       "      <th>area_kitchen</th>\n",
       "      <th>street</th>\n",
       "      <th>publish_date</th>\n",
       "      <th>Район</th>\n",
       "    </tr>\n",
       "  </thead>\n",
       "  <tbody>\n",
       "    <tr>\n",
       "      <th>0</th>\n",
       "      <td>140000.0</td>\n",
       "      <td>2</td>\n",
       "      <td>2258.0</td>\n",
       "      <td>7</td>\n",
       "      <td>9</td>\n",
       "      <td>1969</td>\n",
       "      <td>62.0</td>\n",
       "      <td>47.0</td>\n",
       "      <td>9.0</td>\n",
       "      <td>Омеляновича-Павленка</td>\n",
       "      <td>3 вересня 2020 р.</td>\n",
       "      <td>NaN</td>\n",
       "    </tr>\n",
       "    <tr>\n",
       "      <th>1</th>\n",
       "      <td>105000.0</td>\n",
       "      <td>4</td>\n",
       "      <td>847.0</td>\n",
       "      <td>25</td>\n",
       "      <td>26</td>\n",
       "      <td>2018</td>\n",
       "      <td>124.0</td>\n",
       "      <td>71.0</td>\n",
       "      <td>16.0</td>\n",
       "      <td>NaN</td>\n",
       "      <td>7 жовтня 2020 р.</td>\n",
       "      <td>NaN</td>\n",
       "    </tr>\n",
       "    <tr>\n",
       "      <th>2</th>\n",
       "      <td>175000.0</td>\n",
       "      <td>3</td>\n",
       "      <td>1786.0</td>\n",
       "      <td>25</td>\n",
       "      <td>26</td>\n",
       "      <td>2010</td>\n",
       "      <td>98.0</td>\n",
       "      <td>None</td>\n",
       "      <td>None</td>\n",
       "      <td>Ованеса Туманяна</td>\n",
       "      <td>1 жовтня 2020 р.</td>\n",
       "      <td>NaN</td>\n",
       "    </tr>\n",
       "    <tr>\n",
       "      <th>3</th>\n",
       "      <td>30970.0</td>\n",
       "      <td>1</td>\n",
       "      <td>1106.0</td>\n",
       "      <td>12</td>\n",
       "      <td>13</td>\n",
       "      <td>2013</td>\n",
       "      <td>28.0</td>\n",
       "      <td>13.0</td>\n",
       "      <td>5.0</td>\n",
       "      <td>Петропавлівська</td>\n",
       "      <td>1 лютого</td>\n",
       "      <td>Оболонський</td>\n",
       "    </tr>\n",
       "    <tr>\n",
       "      <th>4</th>\n",
       "      <td>30970.0</td>\n",
       "      <td>1</td>\n",
       "      <td>1106.0</td>\n",
       "      <td>12</td>\n",
       "      <td>13</td>\n",
       "      <td>2013</td>\n",
       "      <td>28.0</td>\n",
       "      <td>13.0</td>\n",
       "      <td>5.0</td>\n",
       "      <td>Петропавлівська</td>\n",
       "      <td>1 лютого</td>\n",
       "      <td>Подільський</td>\n",
       "    </tr>\n",
       "    <tr>\n",
       "      <th>5</th>\n",
       "      <td>82000.0</td>\n",
       "      <td>2</td>\n",
       "      <td>1281.0</td>\n",
       "      <td>18</td>\n",
       "      <td>26</td>\n",
       "      <td>None</td>\n",
       "      <td>64.0</td>\n",
       "      <td>None</td>\n",
       "      <td>None</td>\n",
       "      <td>Дніпровська</td>\n",
       "      <td>*** not found</td>\n",
       "      <td>Оболонський</td>\n",
       "    </tr>\n",
       "    <tr>\n",
       "      <th>6</th>\n",
       "      <td>168535.7</td>\n",
       "      <td>3</td>\n",
       "      <td>1872.6</td>\n",
       "      <td>4</td>\n",
       "      <td>9</td>\n",
       "      <td>1966</td>\n",
       "      <td>90.0</td>\n",
       "      <td>45.0</td>\n",
       "      <td>10.0</td>\n",
       "      <td>Саксаганського</td>\n",
       "      <td>28 жовтня 2020 р.</td>\n",
       "      <td>Голосіївський, Печерський, Шевченківський</td>\n",
       "    </tr>\n",
       "    <tr>\n",
       "      <th>7</th>\n",
       "      <td>4500000.0</td>\n",
       "      <td>4</td>\n",
       "      <td>14610.0</td>\n",
       "      <td>18</td>\n",
       "      <td>21</td>\n",
       "      <td>2011</td>\n",
       "      <td>308.0</td>\n",
       "      <td>None</td>\n",
       "      <td>None</td>\n",
       "      <td>Івана Мазепи</td>\n",
       "      <td>19 жовтня 2020 р.</td>\n",
       "      <td>NaN</td>\n",
       "    </tr>\n",
       "    <tr>\n",
       "      <th>8</th>\n",
       "      <td>135000.0</td>\n",
       "      <td>2</td>\n",
       "      <td>2077.0</td>\n",
       "      <td>16</td>\n",
       "      <td>23</td>\n",
       "      <td>2012</td>\n",
       "      <td>65.0</td>\n",
       "      <td>25.0</td>\n",
       "      <td>18.0</td>\n",
       "      <td>Дніпровська</td>\n",
       "      <td>1 вересня 2020 р.</td>\n",
       "      <td>Оболонський</td>\n",
       "    </tr>\n",
       "    <tr>\n",
       "      <th>9</th>\n",
       "      <td>120000.0</td>\n",
       "      <td>1</td>\n",
       "      <td>2500.0</td>\n",
       "      <td>8</td>\n",
       "      <td>25</td>\n",
       "      <td>2012</td>\n",
       "      <td>48.0</td>\n",
       "      <td>18.0</td>\n",
       "      <td>16.0</td>\n",
       "      <td>Ділова</td>\n",
       "      <td>12 жовтня 2020 р.</td>\n",
       "      <td>Голосіївський, Печерський</td>\n",
       "    </tr>\n",
       "  </tbody>\n",
       "</table>\n",
       "</div>"
      ],
      "text/plain": [
       "       Price rooms price_per_m2 level levels  year area_total area_living  \\\n",
       "0   140000.0     2       2258.0     7      9  1969       62.0        47.0   \n",
       "1   105000.0     4        847.0    25     26  2018      124.0        71.0   \n",
       "2   175000.0     3       1786.0    25     26  2010       98.0        None   \n",
       "3    30970.0     1       1106.0    12     13  2013       28.0        13.0   \n",
       "4    30970.0     1       1106.0    12     13  2013       28.0        13.0   \n",
       "5    82000.0     2       1281.0    18     26  None       64.0        None   \n",
       "6   168535.7     3       1872.6     4      9  1966       90.0        45.0   \n",
       "7  4500000.0     4      14610.0    18     21  2011      308.0        None   \n",
       "8   135000.0     2       2077.0    16     23  2012       65.0        25.0   \n",
       "9   120000.0     1       2500.0     8     25  2012       48.0        18.0   \n",
       "\n",
       "  area_kitchen                street       publish_date  \\\n",
       "0          9.0  Омеляновича-Павленка  3 вересня 2020 р.   \n",
       "1         16.0                   NaN   7 жовтня 2020 р.   \n",
       "2         None      Ованеса Туманяна   1 жовтня 2020 р.   \n",
       "3          5.0       Петропавлівська           1 лютого   \n",
       "4          5.0       Петропавлівська           1 лютого   \n",
       "5         None           Дніпровська      *** not found   \n",
       "6         10.0        Саксаганського  28 жовтня 2020 р.   \n",
       "7         None          Івана Мазепи  19 жовтня 2020 р.   \n",
       "8         18.0           Дніпровська  1 вересня 2020 р.   \n",
       "9         16.0                Ділова  12 жовтня 2020 р.   \n",
       "\n",
       "                                       Район  \n",
       "0                                        NaN  \n",
       "1                                        NaN  \n",
       "2                                        NaN  \n",
       "3                                Оболонський  \n",
       "4                                Подільський  \n",
       "5                                Оболонський  \n",
       "6  Голосіївський, Печерський, Шевченківський  \n",
       "7                                        NaN  \n",
       "8                                Оболонський  \n",
       "9                  Голосіївський, Печерський  "
      ]
     },
     "execution_count": 10,
     "metadata": {},
     "output_type": "execute_result"
    }
   ],
   "source": [
    "# вивести перші 10 рядків датасету 'street_district'\n",
    "street_district.head(10)"
   ]
  },
  {
   "cell_type": "code",
   "execution_count": 11,
   "metadata": {
    "code_folding": []
   },
   "outputs": [
    {
     "data": {
      "text/html": [
       "<div>\n",
       "<style scoped>\n",
       "    .dataframe tbody tr th:only-of-type {\n",
       "        vertical-align: middle;\n",
       "    }\n",
       "\n",
       "    .dataframe tbody tr th {\n",
       "        vertical-align: top;\n",
       "    }\n",
       "\n",
       "    .dataframe thead th {\n",
       "        text-align: right;\n",
       "    }\n",
       "</style>\n",
       "<table border=\"1\" class=\"dataframe\">\n",
       "  <thead>\n",
       "    <tr style=\"text-align: right;\">\n",
       "      <th></th>\n",
       "      <th>Price</th>\n",
       "      <th>rooms</th>\n",
       "      <th>price_per_m2</th>\n",
       "      <th>level</th>\n",
       "      <th>levels</th>\n",
       "      <th>year</th>\n",
       "      <th>area_total</th>\n",
       "      <th>area_living</th>\n",
       "      <th>area_kitchen</th>\n",
       "      <th>street</th>\n",
       "      <th>publish_date</th>\n",
       "      <th>Район</th>\n",
       "    </tr>\n",
       "  </thead>\n",
       "  <tbody>\n",
       "    <tr>\n",
       "      <th>0</th>\n",
       "      <td>140000.0</td>\n",
       "      <td>2</td>\n",
       "      <td>2258.0</td>\n",
       "      <td>7</td>\n",
       "      <td>9</td>\n",
       "      <td>1969</td>\n",
       "      <td>62.0</td>\n",
       "      <td>47.0</td>\n",
       "      <td>9.0</td>\n",
       "      <td>Омеляновича-Павленка</td>\n",
       "      <td>3 вересня 2020 р.</td>\n",
       "      <td></td>\n",
       "    </tr>\n",
       "    <tr>\n",
       "      <th>1</th>\n",
       "      <td>105000.0</td>\n",
       "      <td>4</td>\n",
       "      <td>847.0</td>\n",
       "      <td>25</td>\n",
       "      <td>26</td>\n",
       "      <td>2018</td>\n",
       "      <td>124.0</td>\n",
       "      <td>71.0</td>\n",
       "      <td>16.0</td>\n",
       "      <td>NaN</td>\n",
       "      <td>7 жовтня 2020 р.</td>\n",
       "      <td></td>\n",
       "    </tr>\n",
       "    <tr>\n",
       "      <th>2</th>\n",
       "      <td>175000.0</td>\n",
       "      <td>3</td>\n",
       "      <td>1786.0</td>\n",
       "      <td>25</td>\n",
       "      <td>26</td>\n",
       "      <td>2010</td>\n",
       "      <td>98.0</td>\n",
       "      <td>None</td>\n",
       "      <td>None</td>\n",
       "      <td>Ованеса Туманяна</td>\n",
       "      <td>1 жовтня 2020 р.</td>\n",
       "      <td></td>\n",
       "    </tr>\n",
       "    <tr>\n",
       "      <th>3</th>\n",
       "      <td>30970.0</td>\n",
       "      <td>1</td>\n",
       "      <td>1106.0</td>\n",
       "      <td>12</td>\n",
       "      <td>13</td>\n",
       "      <td>2013</td>\n",
       "      <td>28.0</td>\n",
       "      <td>13.0</td>\n",
       "      <td>5.0</td>\n",
       "      <td>Петропавлівська</td>\n",
       "      <td>1 лютого</td>\n",
       "      <td>Оболонський</td>\n",
       "    </tr>\n",
       "    <tr>\n",
       "      <th>5</th>\n",
       "      <td>82000.0</td>\n",
       "      <td>2</td>\n",
       "      <td>1281.0</td>\n",
       "      <td>18</td>\n",
       "      <td>26</td>\n",
       "      <td>None</td>\n",
       "      <td>64.0</td>\n",
       "      <td>None</td>\n",
       "      <td>None</td>\n",
       "      <td>Дніпровська</td>\n",
       "      <td>*** not found</td>\n",
       "      <td>Оболонський</td>\n",
       "    </tr>\n",
       "    <tr>\n",
       "      <th>6</th>\n",
       "      <td>168535.7</td>\n",
       "      <td>3</td>\n",
       "      <td>1872.6</td>\n",
       "      <td>4</td>\n",
       "      <td>9</td>\n",
       "      <td>1966</td>\n",
       "      <td>90.0</td>\n",
       "      <td>45.0</td>\n",
       "      <td>10.0</td>\n",
       "      <td>Саксаганського</td>\n",
       "      <td>28 жовтня 2020 р.</td>\n",
       "      <td>Голосіївський</td>\n",
       "    </tr>\n",
       "    <tr>\n",
       "      <th>7</th>\n",
       "      <td>4500000.0</td>\n",
       "      <td>4</td>\n",
       "      <td>14610.0</td>\n",
       "      <td>18</td>\n",
       "      <td>21</td>\n",
       "      <td>2011</td>\n",
       "      <td>308.0</td>\n",
       "      <td>None</td>\n",
       "      <td>None</td>\n",
       "      <td>Івана Мазепи</td>\n",
       "      <td>19 жовтня 2020 р.</td>\n",
       "      <td></td>\n",
       "    </tr>\n",
       "    <tr>\n",
       "      <th>8</th>\n",
       "      <td>135000.0</td>\n",
       "      <td>2</td>\n",
       "      <td>2077.0</td>\n",
       "      <td>16</td>\n",
       "      <td>23</td>\n",
       "      <td>2012</td>\n",
       "      <td>65.0</td>\n",
       "      <td>25.0</td>\n",
       "      <td>18.0</td>\n",
       "      <td>Дніпровська</td>\n",
       "      <td>1 вересня 2020 р.</td>\n",
       "      <td>Оболонський</td>\n",
       "    </tr>\n",
       "    <tr>\n",
       "      <th>9</th>\n",
       "      <td>120000.0</td>\n",
       "      <td>1</td>\n",
       "      <td>2500.0</td>\n",
       "      <td>8</td>\n",
       "      <td>25</td>\n",
       "      <td>2012</td>\n",
       "      <td>48.0</td>\n",
       "      <td>18.0</td>\n",
       "      <td>16.0</td>\n",
       "      <td>Ділова</td>\n",
       "      <td>12 жовтня 2020 р.</td>\n",
       "      <td>Голосіївський</td>\n",
       "    </tr>\n",
       "    <tr>\n",
       "      <th>10</th>\n",
       "      <td>57500.0</td>\n",
       "      <td>3</td>\n",
       "      <td>625.0</td>\n",
       "      <td>9</td>\n",
       "      <td>9</td>\n",
       "      <td>1970</td>\n",
       "      <td>92.0</td>\n",
       "      <td>None</td>\n",
       "      <td>None</td>\n",
       "      <td>Новодарницька</td>\n",
       "      <td>5 жовтня 2020 р.</td>\n",
       "      <td></td>\n",
       "    </tr>\n",
       "  </tbody>\n",
       "</table>\n",
       "</div>"
      ],
      "text/plain": [
       "        Price rooms price_per_m2 level levels  year area_total area_living  \\\n",
       "0    140000.0     2       2258.0     7      9  1969       62.0        47.0   \n",
       "1    105000.0     4        847.0    25     26  2018      124.0        71.0   \n",
       "2    175000.0     3       1786.0    25     26  2010       98.0        None   \n",
       "3     30970.0     1       1106.0    12     13  2013       28.0        13.0   \n",
       "5     82000.0     2       1281.0    18     26  None       64.0        None   \n",
       "6    168535.7     3       1872.6     4      9  1966       90.0        45.0   \n",
       "7   4500000.0     4      14610.0    18     21  2011      308.0        None   \n",
       "8    135000.0     2       2077.0    16     23  2012       65.0        25.0   \n",
       "9    120000.0     1       2500.0     8     25  2012       48.0        18.0   \n",
       "10    57500.0     3        625.0     9      9  1970       92.0        None   \n",
       "\n",
       "   area_kitchen                street       publish_date          Район  \n",
       "0           9.0  Омеляновича-Павленка  3 вересня 2020 р.                 \n",
       "1          16.0                   NaN   7 жовтня 2020 р.                 \n",
       "2          None      Ованеса Туманяна   1 жовтня 2020 р.                 \n",
       "3           5.0       Петропавлівська           1 лютого    Оболонський  \n",
       "5          None           Дніпровська      *** not found    Оболонський  \n",
       "6          10.0        Саксаганського  28 жовтня 2020 р.  Голосіївський  \n",
       "7          None          Івана Мазепи  19 жовтня 2020 р.                 \n",
       "8          18.0           Дніпровська  1 вересня 2020 р.    Оболонський  \n",
       "9          16.0                Ділова  12 жовтня 2020 р.  Голосіївський  \n",
       "10         None         Новодарницька   5 жовтня 2020 р.                 "
      ]
     },
     "execution_count": 11,
     "metadata": {},
     "output_type": "execute_result"
    }
   ],
   "source": [
    "# поліпшити якість датасету:\n",
    "\n",
    "# - замінити `NaN`  району на ''\n",
    "street_district[\"Район\"] = street_district[\"Район\"].fillna('') \n",
    "\n",
    "# - замінити `NaN`  area_total на ''\n",
    "#street_district[street_district['area_total'] = 'None'] = np.NaN\n",
    "\n",
    "# - замінити список районів на перший\n",
    "street_district[\"Район\"] = street_district[\"Район\"].str.split(',')\n",
    "district_list = street_district[\"Район\"].to_list()\n",
    "district_list = [x[0] for x in district_list]\n",
    "street_district[\"Район\"] = pd.Series(district_list)\n",
    "\n",
    "# - видалити дублюючі записи\n",
    "street_district = street_district.drop_duplicates(subset=\n",
    "                                ['Price', 'rooms', 'price_per_m2', 'level', 'levels'])\n",
    "\n",
    "street_district.head(10)\n"
   ]
  },
  {
   "cell_type": "code",
   "execution_count": 12,
   "metadata": {
    "scrolled": true
   },
   "outputs": [
    {
     "data": {
      "text/plain": [
       "Price           float64\n",
       "rooms            object\n",
       "price_per_m2     object\n",
       "level            object\n",
       "levels           object\n",
       "year             object\n",
       "area_total       object\n",
       "area_living      object\n",
       "area_kitchen     object\n",
       "street           object\n",
       "publish_date     object\n",
       "Район            object\n",
       "dtype: object"
      ]
     },
     "execution_count": 12,
     "metadata": {},
     "output_type": "execute_result"
    }
   ],
   "source": [
    "street_district.dtypes"
   ]
  },
  {
   "cell_type": "code",
   "execution_count": 14,
   "metadata": {
    "run_control": {
     "marked": true
    }
   },
   "outputs": [],
   "source": [
    "# отримати сводний датасет по вашому показчику \n",
    "# ім'я показчика брати в лапки!\n",
    "\n",
    "import numpy as np\n",
    "result = street_district[['Район', 'Price']]\\\n",
    "      .groupby(['Район'])\\\n",
    "      .agg(Всього=('Price', 'count'),\n",
    "           Макс=('Price', 'max'),\n",
    "           Мін=('Price', 'min'),\n",
    "           Ст_відх=('Price', 'std'),\n",
    "           Середнє=('Price', 'mean'),\n",
    "           Розмах=('Price', np.ptp)).round(2)"
   ]
  },
  {
   "cell_type": "code",
   "execution_count": 15,
   "metadata": {
    "code_folding": [],
    "run_control": {
     "marked": true
    }
   },
   "outputs": [
    {
     "data": {
      "text/html": [
       "<div>\n",
       "<style scoped>\n",
       "    .dataframe tbody tr th:only-of-type {\n",
       "        vertical-align: middle;\n",
       "    }\n",
       "\n",
       "    .dataframe tbody tr th {\n",
       "        vertical-align: top;\n",
       "    }\n",
       "\n",
       "    .dataframe thead th {\n",
       "        text-align: right;\n",
       "    }\n",
       "</style>\n",
       "<table border=\"1\" class=\"dataframe\">\n",
       "  <thead>\n",
       "    <tr style=\"text-align: right;\">\n",
       "      <th></th>\n",
       "      <th>Всього</th>\n",
       "      <th>Макс</th>\n",
       "      <th>Мін</th>\n",
       "      <th>Ст_відх</th>\n",
       "      <th>Середнє</th>\n",
       "      <th>Розмах</th>\n",
       "    </tr>\n",
       "    <tr>\n",
       "      <th>Район</th>\n",
       "      <th></th>\n",
       "      <th></th>\n",
       "      <th></th>\n",
       "      <th></th>\n",
       "      <th></th>\n",
       "      <th></th>\n",
       "    </tr>\n",
       "  </thead>\n",
       "  <tbody>\n",
       "    <tr>\n",
       "      <th></th>\n",
       "      <td>299</td>\n",
       "      <td>4500000.0</td>\n",
       "      <td>10092.1</td>\n",
       "      <td>375770.16</td>\n",
       "      <td>181497.15</td>\n",
       "      <td>4489907.9</td>\n",
       "    </tr>\n",
       "    <tr>\n",
       "      <th>Голосіївський</th>\n",
       "      <td>55</td>\n",
       "      <td>15700000.0</td>\n",
       "      <td>35000.0</td>\n",
       "      <td>2098229.76</td>\n",
       "      <td>469736.47</td>\n",
       "      <td>15665000.0</td>\n",
       "    </tr>\n",
       "    <tr>\n",
       "      <th>Дарницький</th>\n",
       "      <td>53</td>\n",
       "      <td>980000.0</td>\n",
       "      <td>35600.0</td>\n",
       "      <td>134082.66</td>\n",
       "      <td>128637.98</td>\n",
       "      <td>944400.0</td>\n",
       "    </tr>\n",
       "    <tr>\n",
       "      <th>Деснянський</th>\n",
       "      <td>13</td>\n",
       "      <td>480000.0</td>\n",
       "      <td>31000.0</td>\n",
       "      <td>121463.77</td>\n",
       "      <td>91345.92</td>\n",
       "      <td>449000.0</td>\n",
       "    </tr>\n",
       "    <tr>\n",
       "      <th>Дніпровський</th>\n",
       "      <td>30</td>\n",
       "      <td>160000.0</td>\n",
       "      <td>33900.0</td>\n",
       "      <td>35707.59</td>\n",
       "      <td>86641.97</td>\n",
       "      <td>126100.0</td>\n",
       "    </tr>\n",
       "    <tr>\n",
       "      <th>Оболонський</th>\n",
       "      <td>47</td>\n",
       "      <td>1010000.0</td>\n",
       "      <td>30970.0</td>\n",
       "      <td>184334.40</td>\n",
       "      <td>146114.10</td>\n",
       "      <td>979030.0</td>\n",
       "    </tr>\n",
       "    <tr>\n",
       "      <th>Печерський</th>\n",
       "      <td>48</td>\n",
       "      <td>3210000.0</td>\n",
       "      <td>58000.0</td>\n",
       "      <td>645000.38</td>\n",
       "      <td>420903.83</td>\n",
       "      <td>3152000.0</td>\n",
       "    </tr>\n",
       "    <tr>\n",
       "      <th>Подільський</th>\n",
       "      <td>31</td>\n",
       "      <td>284999.0</td>\n",
       "      <td>43000.0</td>\n",
       "      <td>56477.87</td>\n",
       "      <td>87463.01</td>\n",
       "      <td>241999.0</td>\n",
       "    </tr>\n",
       "    <tr>\n",
       "      <th>Святошинський</th>\n",
       "      <td>23</td>\n",
       "      <td>138000.0</td>\n",
       "      <td>36000.0</td>\n",
       "      <td>32923.13</td>\n",
       "      <td>83231.57</td>\n",
       "      <td>102000.0</td>\n",
       "    </tr>\n",
       "    <tr>\n",
       "      <th>Солом'янський</th>\n",
       "      <td>23</td>\n",
       "      <td>185000.0</td>\n",
       "      <td>36000.0</td>\n",
       "      <td>45099.68</td>\n",
       "      <td>92534.78</td>\n",
       "      <td>149000.0</td>\n",
       "    </tr>\n",
       "    <tr>\n",
       "      <th>Шевченківський</th>\n",
       "      <td>53</td>\n",
       "      <td>777500.0</td>\n",
       "      <td>39000.0</td>\n",
       "      <td>152925.07</td>\n",
       "      <td>175002.17</td>\n",
       "      <td>738500.0</td>\n",
       "    </tr>\n",
       "  </tbody>\n",
       "</table>\n",
       "</div>"
      ],
      "text/plain": [
       "                Всього        Макс      Мін     Ст_відх    Середнє      Розмах\n",
       "Район                                                                         \n",
       "                   299   4500000.0  10092.1   375770.16  181497.15   4489907.9\n",
       "Голосіївський       55  15700000.0  35000.0  2098229.76  469736.47  15665000.0\n",
       "Дарницький          53    980000.0  35600.0   134082.66  128637.98    944400.0\n",
       "Деснянський         13    480000.0  31000.0   121463.77   91345.92    449000.0\n",
       "Дніпровський        30    160000.0  33900.0    35707.59   86641.97    126100.0\n",
       "Оболонський         47   1010000.0  30970.0   184334.40  146114.10    979030.0\n",
       "Печерський          48   3210000.0  58000.0   645000.38  420903.83   3152000.0\n",
       "Подільський         31    284999.0  43000.0    56477.87   87463.01    241999.0\n",
       "Святошинський       23    138000.0  36000.0    32923.13   83231.57    102000.0\n",
       "Солом'янський       23    185000.0  36000.0    45099.68   92534.78    149000.0\n",
       "Шевченківський      53    777500.0  39000.0   152925.07  175002.17    738500.0"
      ]
     },
     "execution_count": 15,
     "metadata": {},
     "output_type": "execute_result"
    }
   ],
   "source": [
    "# вивести результат\n",
    "result"
   ]
  },
  {
   "cell_type": "code",
   "execution_count": null,
   "metadata": {},
   "outputs": [],
   "source": []
  }
 ],
 "metadata": {
  "kernelspec": {
   "display_name": "Python 3",
   "language": "python",
   "name": "python3"
  },
  "language_info": {
   "codemirror_mode": {
    "name": "ipython",
    "version": 3
   },
   "file_extension": ".py",
   "mimetype": "text/x-python",
   "name": "python",
   "nbconvert_exporter": "python",
   "pygments_lexer": "ipython3",
   "version": "3.8.5"
  }
 },
 "nbformat": 4,
 "nbformat_minor": 2
}
