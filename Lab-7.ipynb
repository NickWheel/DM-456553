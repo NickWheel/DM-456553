{
 "cells": [
  {
   "cell_type": "markdown",
   "metadata": {},
   "source": [
    "#  Скрапінг-технології"
   ]
  },
  {
   "cell_type": "markdown",
   "metadata": {},
   "source": [
    "## ТЕОРЕТИЧНА ЧАСТИНА ТА ПРИКЛАДИ"
   ]
  },
  {
   "cell_type": "markdown",
   "metadata": {},
   "source": [
    "Вміст веб-сайтів(документів) - основне джерело видобутку даних.\n",
    "\n",
    "[<img src=\"total-pages.png\" width=\"500\"/>](total-pages.png)\n",
    "[<img src=\"page-size.png\" width=\"500\"/>](page-size.png)\n",
    "\n",
    "Вилучення корисних даних з веб-сторінки називається [веб-скрапінгом](https://uk.wikipedia.org/wiki/Web_scraping)\n",
    "\n",
    "_Технологія_ що покладена в основу веб-скрапінга - __HTML-парсінг__\n",
    "\n",
    "Основні парсери HTML:\n",
    "\n",
    "- [Beautiful Soup](https://en.wikipedia.org/wiki/Beautiful_Soup_(HTML_parser)) - загальноцілова бібліотека Python для парсінгу _статичних_ сайтів.\n",
    "- [Selenium](https://ru.wikipedia.org/wiki/Selenium) - бібліотека з можливістю парсінга _динамічних_ веб-сайтів.\n",
    "- [Scrapy](https://ru.wikipedia.org/wiki/Scrapy) - облегшена бібліотека для парсінгу нескладних статичних сайтів."
   ]
  },
  {
   "cell_type": "markdown",
   "metadata": {},
   "source": [
    "### Технологія веб-скрапінгу включає наступні етапи:\n",
    "\n",
    "1. Визначення об'єктів, які підлягають видобутку\n",
    "2. Вилучення html-сторінки з інтернет-ресурса\n",
    "3. Визначення внутрішньої структури html-документа та стратегії вилученя даних\n",
    "4. Застосування веб-скрапера для вилучення та накопичення даних в необхідні структури"
   ]
  },
  {
   "cell_type": "markdown",
   "metadata": {},
   "source": [
    "#### Вилучення html-сторінки з інтернет-ресурса\n",
    "\n",
    "__ПРИКЛАД:__ Отримати з сторінки [сайту розкладу КНТЕУ](https://knute.edu.ua/blog/read/?pid=1038&uk) _url-адреси_ excel-файлів розкладу бакалаврів по факультетам та надати результат у вигляді таблиці:\n",
    "\n",
    "Факультет | Курс    | Адреса\n",
    ":----------|:-------:|:-------|\n",
    "ФІТ        |    1   |https://knute.edu.ua/file/MjY=/23d2ede3a07a98bec586cf2368cec077.xls \n",
    "ФІТ        |    2   |https://knute.edu.ua/file/MjY=/b829f1bdfd628d56b3c53f5015710678.xls\n",
    "...        |  ...   | ...\n",
    "ФМТП       |   4    |https://knute.edu.ua/file/Mjc=/6714dca44d23f37ff446ac7f1c5e2147.xls\n",
    "\n"
   ]
  },
  {
   "cell_type": "markdown",
   "metadata": {},
   "source": [
    "Для організації взаємодії з інтернет-ресурсами по протоколу _http/https_ скористаємося бібліотека [Requests](https://www.digitalocean.com/community/tutorials/how-to-get-started-with-the-requests-library-in-python-ru)"
   ]
  },
  {
   "cell_type": "code",
   "execution_count": null,
   "metadata": {
    "scrolled": true
   },
   "outputs": [],
   "source": [
    "# перевіримо наявність бібліотеки requests\n",
    "! pip freeze | grep requests"
   ]
  },
  {
   "cell_type": "code",
   "execution_count": 17,
   "metadata": {},
   "outputs": [
    {
     "name": "stdout",
     "output_type": "stream",
     "text": [
      "Requirement already satisfied: requests in c:\\programdata\\anaconda3\\lib\\site-packages (2.24.0)\n",
      "Requirement already satisfied: certifi>=2017.4.17 in c:\\programdata\\anaconda3\\lib\\site-packages (from requests) (2020.6.20)\n",
      "Requirement already satisfied: chardet<4,>=3.0.2 in c:\\programdata\\anaconda3\\lib\\site-packages (from requests) (3.0.4)\n",
      "Requirement already satisfied: urllib3!=1.25.0,!=1.25.1,<1.26,>=1.21.1 in c:\\programdata\\anaconda3\\lib\\site-packages (from requests) (1.25.11)\n",
      "Requirement already satisfied: idna<3,>=2.5 in c:\\programdata\\anaconda3\\lib\\site-packages (from requests) (2.10)\n"
     ]
    }
   ],
   "source": [
    "# якщо її немає на комп'ютері, то встановимо\n",
    "!pip install requests"
   ]
  },
  {
   "cell_type": "code",
   "execution_count": 18,
   "metadata": {},
   "outputs": [],
   "source": [
    "# підключення бібліотеки \n",
    "import requests"
   ]
  },
  {
   "cell_type": "code",
   "execution_count": 19,
   "metadata": {},
   "outputs": [
    {
     "name": "stdout",
     "output_type": "stream",
     "text": [
      "['ConnectTimeout', 'ConnectionError', 'DependencyWarning', 'FileModeWarning', 'HTTPError', 'NullHandler', 'PreparedRequest', 'ReadTimeout', 'Request', 'RequestException', 'RequestsDependencyWarning', 'Response', 'Session', 'Timeout', 'TooManyRedirects', 'URLRequired', '__author__', '__author_email__', '__build__', '__builtins__', '__cached__', '__cake__', '__copyright__', '__description__', '__doc__', '__file__', '__license__', '__loader__', '__name__', '__package__', '__path__', '__spec__', '__title__', '__url__', '__version__', '_check_cryptography', '_internal_utils', 'adapters', 'api', 'auth', 'certs', 'chardet', 'check_compatibility', 'codes', 'compat', 'cookies', 'delete', 'exceptions', 'get', 'head', 'hooks', 'logging', 'models', 'options', 'packages', 'patch', 'post', 'put', 'request', 'session', 'sessions', 'ssl', 'status_codes', 'structures', 'urllib3', 'utils', 'warnings']\n"
     ]
    }
   ],
   "source": [
    "print(dir(requests))"
   ]
  },
  {
   "cell_type": "code",
   "execution_count": 20,
   "metadata": {},
   "outputs": [],
   "source": [
    "# модуль `get` відповідає за зчитування ресурса в об'єкт 'response'\n",
    "requests.get?"
   ]
  },
  {
   "cell_type": "code",
   "execution_count": 21,
   "metadata": {},
   "outputs": [],
   "source": [
    "# отримаємо сторінку розкладів \n",
    "url = 'https://knute.edu.ua/blog/read/?pid=1038&uk'\n",
    "resp = requests.get(url)"
   ]
  },
  {
   "cell_type": "code",
   "execution_count": 22,
   "metadata": {},
   "outputs": [
    {
     "name": "stdout",
     "output_type": "stream",
     "text": [
      "['__attrs__', '__bool__', '__class__', '__delattr__', '__dict__', '__dir__', '__doc__', '__enter__', '__eq__', '__exit__', '__format__', '__ge__', '__getattribute__', '__getstate__', '__gt__', '__hash__', '__init__', '__init_subclass__', '__iter__', '__le__', '__lt__', '__module__', '__ne__', '__new__', '__nonzero__', '__reduce__', '__reduce_ex__', '__repr__', '__setattr__', '__setstate__', '__sizeof__', '__str__', '__subclasshook__', '__weakref__', '_content', '_content_consumed', '_next', 'apparent_encoding', 'close', 'connection', 'content', 'cookies', 'elapsed', 'encoding', 'headers', 'history', 'is_permanent_redirect', 'is_redirect', 'iter_content', 'iter_lines', 'json', 'links', 'next', 'ok', 'raise_for_status', 'raw', 'reason', 'request', 'status_code', 'text', 'url']\n"
     ]
    }
   ],
   "source": [
    "print(dir(resp))"
   ]
  },
  {
   "cell_type": "code",
   "execution_count": 23,
   "metadata": {},
   "outputs": [
    {
     "data": {
      "text/plain": [
       "'<!DOCTYPE html>\\n<html ng-app=\"siteApp\">\\n  <head>\\n<meta http-equiv=\"Content-Type\" content=\"text/html; charset=utf-8\" /><meta name=\"viewport\" content=\"width=500px, initial-scale=0.7\" /><meta property=\"og:image\" content=\"/image/MTg0/8d0919156730f0275274fbf039c2a855.png\" /><meta property=\"og:title\" content=\"Ð\\xa0Ð¾Ð·ÐºÐ»Ð°Ð´ Ð·Ð°Ð½Ñ\\x8fÑ\\x82Ñ\\x8c, ÐµÐºÐ·Ð°Ð¼ÐµÐ½Ð°Ñ\\x86Ñ\\x96Ð¹Ð½Ð¾Ñ\\x97 Ñ\\x81ÐµÑ\\x81Ñ\\x96Ñ\\x97, Ð°Ñ\\x82ÐµÑ\\x81Ñ\\x82Ð°Ñ\\x86Ñ\\x96Ñ\\x97 Ð·Ð´Ð¾Ð±Ñ\\x83Ð²Ð°Ñ\\x87Ñ\\x96Ð² Ð²Ð¸Ñ\\x89Ð¾Ñ\\x97 Ð¾Ñ\\x81Ð²Ñ\\x96Ñ\\x82Ð¸\" /><meta property=\"og:description\" content=\"Ð\\x90Ð´Ñ\\x80ÐµÑ\\x81Ð¸ Ð½Ð°'"
      ]
     },
     "execution_count": 23,
     "metadata": {},
     "output_type": "execute_result"
    }
   ],
   "source": [
    "resp.text[:500]"
   ]
  },
  {
   "cell_type": "markdown",
   "metadata": {},
   "source": [
    "__перетворення кодування сторінки__"
   ]
  },
  {
   "cell_type": "code",
   "execution_count": 24,
   "metadata": {},
   "outputs": [
    {
     "data": {
      "text/plain": [
       "'ISO-8859-1'"
      ]
     },
     "execution_count": 24,
     "metadata": {},
     "output_type": "execute_result"
    }
   ],
   "source": [
    "resp.encoding"
   ]
  },
  {
   "cell_type": "code",
   "execution_count": 25,
   "metadata": {},
   "outputs": [
    {
     "data": {
      "text/plain": [
       "'utf-8'"
      ]
     },
     "execution_count": 25,
     "metadata": {},
     "output_type": "execute_result"
    }
   ],
   "source": [
    "resp.apparent_encoding"
   ]
  },
  {
   "cell_type": "code",
   "execution_count": 26,
   "metadata": {},
   "outputs": [],
   "source": [
    "resp.encoding = resp.apparent_encoding"
   ]
  },
  {
   "cell_type": "code",
   "execution_count": 27,
   "metadata": {},
   "outputs": [
    {
     "name": "stdout",
     "output_type": "stream",
     "text": [
      "<!DOCTYPE html>\n",
      "<html ng-app=\"siteApp\">\n",
      "  <head>\n",
      "<meta http-equiv=\"Content-Type\" content=\"text/html; charset=utf-8\" /><meta name=\"viewport\" content=\"width=500px, initial-scale=0.7\" /><meta property=\"og:image\" content=\"/image/MTg0/8d0919156730f0275274fbf039c2a855.png\" /><meta property=\"og:title\" content=\"Розклад занять, екзаменаційної сесії, атестації здобувачів вищої освіти\" /><meta property=\"og:description\" content=\"Адреси навчальних корпусів: А - вул. Кіото 19 (головний корпус) Б - вул. Кіото \n"
     ]
    }
   ],
   "source": [
    "print(resp.text[:500])"
   ]
  },
  {
   "cell_type": "code",
   "execution_count": 28,
   "metadata": {},
   "outputs": [],
   "source": [
    "knteu_rasp_page = resp.text"
   ]
  },
  {
   "cell_type": "markdown",
   "metadata": {},
   "source": [
    "#### Визначення внутрішньої структури html-документа та стратегії вилученя даних\n",
    "\n"
   ]
  },
  {
   "cell_type": "markdown",
   "metadata": {},
   "source": [
    "Для визначення структури веб-документа найкращим засобом є використання [Chrome DevTools](https://developer.chrome.com/docs/devtools/) або аналогічних, що поставляються з сучасними браузерами."
   ]
  },
  {
   "cell_type": "markdown",
   "metadata": {},
   "source": [
    "#### скрапінг html-документа за допомогою [BeautifulSoup](https://www.crummy.com/software/BeautifulSoup/bs4/doc.ru/bs4ru.html)"
   ]
  },
  {
   "cell_type": "code",
   "execution_count": 29,
   "metadata": {
    "scrolled": true
   },
   "outputs": [
    {
     "name": "stderr",
     "output_type": "stream",
     "text": [
      "'grep' is not recognized as an internal or external command,\n",
      "operable program or batch file.\n"
     ]
    }
   ],
   "source": [
    "# перевіримо наявність бібліотеки BeautifulSoup\n",
    "! pip freeze | grep beautifulsoup"
   ]
  },
  {
   "cell_type": "code",
   "execution_count": 30,
   "metadata": {},
   "outputs": [
    {
     "name": "stdout",
     "output_type": "stream",
     "text": [
      "Requirement already satisfied: beautifulsoup4 in c:\\programdata\\anaconda3\\lib\\site-packages (4.9.3)\n",
      "Requirement already satisfied: soupsieve>1.2; python_version >= \"3.0\" in c:\\programdata\\anaconda3\\lib\\site-packages (from beautifulsoup4) (2.0.1)\n"
     ]
    }
   ],
   "source": [
    "# якщо її немає на комп'ютері, то встановимо\n",
    "!pip install beautifulsoup4"
   ]
  },
  {
   "cell_type": "code",
   "execution_count": 31,
   "metadata": {},
   "outputs": [],
   "source": [
    "# імпортуєм html-парсер з псевдоніміом 'bs'\n",
    "from bs4 import BeautifulSoup as bs\n",
    "\n",
    "bs?"
   ]
  },
  {
   "cell_type": "code",
   "execution_count": 32,
   "metadata": {},
   "outputs": [],
   "source": [
    "# застосуємо html-парсер до завантаженої сторінки з розкладами 'knteu_rasp_page'\n",
    "parsed_rasp = bs(knteu_rasp_page, features='html.parser')"
   ]
  },
  {
   "cell_type": "code",
   "execution_count": 33,
   "metadata": {},
   "outputs": [
    {
     "name": "stdout",
     "output_type": "stream",
     "text": [
      "['ASCII_SPACES', 'DEFAULT_BUILDER_FEATURES', 'NO_PARSER_SPECIFIED_WARNING', 'ROOT_TAG_NAME', '__bool__', '__call__', '__class__', '__contains__', '__copy__', '__delattr__', '__delitem__', '__dict__', '__dir__', '__doc__', '__eq__', '__format__', '__ge__', '__getattr__', '__getattribute__', '__getitem__', '__getstate__', '__gt__', '__hash__', '__init__', '__init_subclass__', '__iter__', '__le__', '__len__', '__lt__', '__module__', '__ne__', '__new__', '__reduce__', '__reduce_ex__', '__repr__', '__setattr__', '__setitem__', '__sizeof__', '__str__', '__subclasshook__', '__unicode__', '__weakref__', '_all_strings', '_check_markup_is_url', '_decode_markup', '_feed', '_find_all', '_find_one', '_is_xml', '_lastRecursiveChild', '_last_descendant', '_linkage_fixer', '_most_recent_element', '_namespaces', '_popToTag', '_should_pretty_print', 'append', 'attrs', 'builder', 'can_be_empty_element', 'cdata_list_attributes', 'childGenerator', 'children', 'clear', 'contains_replacement_characters', 'contents', 'currentTag', 'current_data', 'declared_html_encoding', 'decode', 'decode_contents', 'decompose', 'decomposed', 'descendants', 'element_classes', 'encode', 'encode_contents', 'endData', 'extend', 'extract', 'fetchNextSiblings', 'fetchParents', 'fetchPrevious', 'fetchPreviousSiblings', 'find', 'findAll', 'findAllNext', 'findAllPrevious', 'findChild', 'findChildren', 'findNext', 'findNextSibling', 'findNextSiblings', 'findParent', 'findParents', 'findPrevious', 'findPreviousSibling', 'findPreviousSiblings', 'find_all', 'find_all_next', 'find_all_previous', 'find_next', 'find_next_sibling', 'find_next_siblings', 'find_parent', 'find_parents', 'find_previous', 'find_previous_sibling', 'find_previous_siblings', 'format_string', 'formatter_for_name', 'get', 'getText', 'get_attribute_list', 'get_text', 'handle_data', 'handle_endtag', 'handle_starttag', 'has_attr', 'has_key', 'hidden', 'index', 'insert', 'insert_after', 'insert_before', 'isSelfClosing', 'is_empty_element', 'is_xml', 'known_xml', 'markup', 'name', 'namespace', 'new_string', 'new_tag', 'next', 'nextGenerator', 'nextSibling', 'nextSiblingGenerator', 'next_element', 'next_elements', 'next_sibling', 'next_siblings', 'object_was_parsed', 'open_tag_counter', 'original_encoding', 'parent', 'parentGenerator', 'parents', 'parse_only', 'parserClass', 'parser_class', 'popTag', 'prefix', 'preserve_whitespace_tag_stack', 'preserve_whitespace_tags', 'prettify', 'previous', 'previousGenerator', 'previousSibling', 'previousSiblingGenerator', 'previous_element', 'previous_elements', 'previous_sibling', 'previous_siblings', 'pushTag', 'recursiveChildGenerator', 'renderContents', 'replaceWith', 'replaceWithChildren', 'replace_with', 'replace_with_children', 'reset', 'select', 'select_one', 'setup', 'smooth', 'string', 'string_container', 'string_container_stack', 'strings', 'stripped_strings', 'tagStack', 'text', 'unwrap', 'wrap']\n"
     ]
    }
   ],
   "source": [
    "print(dir(parsed_rasp))"
   ]
  },
  {
   "cell_type": "markdown",
   "metadata": {},
   "source": [
    "__Ітеруємось по DOM веб-документа__"
   ]
  },
  {
   "cell_type": "code",
   "execution_count": 148,
   "metadata": {},
   "outputs": [],
   "source": [
    "back = parsed_rasp.find('span', text='БАКАЛАВР')"
   ]
  },
  {
   "cell_type": "code",
   "execution_count": 149,
   "metadata": {},
   "outputs": [
    {
     "name": "stdout",
     "output_type": "stream",
     "text": [
      "<table class=\"table table-striped\" style=\"height:135px; width:100%\">\n",
      "<tbody>\n",
      "<tr>\n",
      "<td style=\"text-align:center\"><strong>ФІТ</strong></td>\n",
      "<td style=\"text-align:center\"><strong>ФЕМП</strong></td>\n",
      "<td style=\"text-align:center\"><strong>ФТМ</strong></td>\n",
      "<td style=\"text-align:center\"><strong>ФРГТБ</strong></td>\n",
      "<td style=\"text-align:center\"><strong>ФФО</strong></td>\n",
      "<td style=\"text-align:center\"><strong>ФМТП</strong></td>\n",
      "</tr>\n",
      "<tr>\n",
      "<td style=\"text-align:center\"><a href=\"/file/MjY=/23d2ede3a07a98bec586cf2368cec077.xls\"><strong>1\n",
      "курс</strong></a></td>\n",
      "<td style=\"text-align:center\"><a href=\"/file/MjM=/d729b8ba54cdccb69db49f5a0d7d7eb1.xls\"><strong>1\n",
      "курс</strong></a></td>\n",
      "<td style=\"text-align:center\"><a href=\"/file/Mjc=/8d92d521c99d133fa3146b4dc74248f6.xls\"><strong>1\n",
      "курс </strong></a></td>\n",
      "<td style=\"text-align:center\"><a href=\"/file/MjU=/fb3cb5f71b89a5d292c64eaa785fbdd6.xls\"><strong>1\n",
      "курс</strong></a></td>\n",
      "<td style=\"text-align:center\"><a href=\"/file/MjQ=/0568469fe304887c2b4e67118558a662.xls\"><strong>1\n",
      "курс</strong></a></td>\n",
      "<td style=\"text-align:center\"><a href=\"/file/Mjc=/8937e7f7074e7648821fb414979d6b4b.xls\"><strong>1\n",
      "курс</strong></a></td>\n",
      "</tr>\n",
      "<tr>\n",
      "<td style=\"text-align:center\"><a href=\"/file/MjY=/b829f1bdfd628d56b3c53f5015710678.xls\"><strong>2\n",
      "курс</strong></a></td>\n",
      "<td style=\"text-align:center\"><a href=\"/file/MjM=/48dfc2156c45dd3bf4efd98358ecb23e.xls\"><strong>2\n",
      "курс</strong></a></td>\n",
      "<td style=\"text-align:center\"><a href=\"/file/Mjc=/be883a28665974c8f871f5ac7b378599.xls\"><strong>2\n",
      "курс</strong></a></td>\n",
      "<td style=\"text-align:center\"><a href=\"/file/MjU=/44439574b6ed77dce16e8d1841659526.xls\"><strong>2\n",
      "курс</strong></a></td>\n",
      "<td style=\"text-align:center\"><a href=\"/file/MjM=/6e471033e01db32713c66a7b6a04d957.xls\"><strong>2\n",
      "курс</strong></a></td>\n",
      "<td style=\"text-align:center\"><a href=\"/file/Mjc=/00e047c6e4fc5eb6f813d6c44502c6ab.xls\"><strong>2\n",
      "курс</strong></a></td>\n",
      "</tr>\n",
      "<tr>\n",
      "<td style=\"text-align:center\"><a href=\"/file/MjY=/337eefe15b101d437d0bc6b40752d8e7.xls\"><strong>3\n",
      "курс</strong></a></td>\n",
      "<td style=\"text-align:center\"><a href=\"/file/Mjc=/694293c1026c2c6dcfe865ae7e450f97.xls\"><strong>3\n",
      "курс</strong></a></td>\n",
      "<td style=\"text-align:center\"><strong><a href=\"/file/Mjc=/37f7a0b81fab8ab64f556f1a062d4097.xls\">3\n",
      "курс</a></strong></td>\n",
      "<td style=\"text-align:center\"><a href=\"/file/MjU=/73cc00d0804b7df2a057529901b90561.xls\"><strong>3\n",
      "курc</strong></a></td>\n",
      "<td style=\"text-align:center\"><a href=\"/file/MjQ=/b0ed8d8642707044e715215c48a1e101.xls\"><strong>3\n",
      "курс</strong></a></td>\n",
      "<td style=\"text-align:center\"><a href=\"/file/Mjc=/cda719b86489fb1d41fc2b0c54792b1d.xls\"><strong>3\n",
      "курс</strong></a></td>\n",
      "</tr>\n",
      "<tr>\n",
      "<td style=\"text-align:center\"><a href=\"/file/MjY=/f7683215387e7ab014cdcb3e52966f90.xls\"><strong>4\n",
      "курс</strong></a></td>\n",
      "<td style=\"text-align:center\"><a href=\"/file/Mjc=/c99d5d2ff7eeededfdb0a6b583ddf103.xls\"><strong>4\n",
      "курс</strong></a></td>\n",
      "<td style=\"text-align:center\"><a href=\"/file/Mjc=/aa55cf0f6200e1643a447a0b3c481a0a.xls\"><strong>4\n",
      "курс</strong></a></td>\n",
      "<td style=\"text-align:center\"><a href=\"/file/MjU=/55bca0f3dc5caaa1bf9581b99edf67ab.xls\"><strong>4\n",
      "курс</strong></a></td>\n",
      "<td style=\"text-align:center\"><a href=\"/file/MjQ=/1d1945d64ae3879c762eae1d8c95584d.xls\"><strong>4\n",
      "курс</strong></a></td>\n",
      "<td style=\"text-align:center\"><a href=\"/file/Mjc=/6714dca44d23f37ff446ac7f1c5e2147.xls\"><strong>4\n",
      "курс</strong></a></td>\n",
      "</tr>\n",
      "</tbody>\n",
      "</table>\n"
     ]
    }
   ],
   "source": [
    "rasp_table = back.find_parent('strong').find_parent('h3').findNextSibling('table')\n",
    "print(rasp_table)"
   ]
  },
  {
   "cell_type": "code",
   "execution_count": 150,
   "metadata": {
    "scrolled": true
   },
   "outputs": [
    {
     "name": "stdout",
     "output_type": "stream",
     "text": [
      "[<tr>\n",
      "<td style=\"text-align:center\"><strong>ФІТ</strong></td>\n",
      "<td style=\"text-align:center\"><strong>ФЕМП</strong></td>\n",
      "<td style=\"text-align:center\"><strong>ФТМ</strong></td>\n",
      "<td style=\"text-align:center\"><strong>ФРГТБ</strong></td>\n",
      "<td style=\"text-align:center\"><strong>ФФО</strong></td>\n",
      "<td style=\"text-align:center\"><strong>ФМТП</strong></td>\n",
      "</tr>, <tr>\n",
      "<td style=\"text-align:center\"><a href=\"/file/MjY=/23d2ede3a07a98bec586cf2368cec077.xls\"><strong>1\n",
      "курс</strong></a></td>\n",
      "<td style=\"text-align:center\"><a href=\"/file/MjM=/d729b8ba54cdccb69db49f5a0d7d7eb1.xls\"><strong>1\n",
      "курс</strong></a></td>\n",
      "<td style=\"text-align:center\"><a href=\"/file/Mjc=/8d92d521c99d133fa3146b4dc74248f6.xls\"><strong>1\n",
      "курс </strong></a></td>\n",
      "<td style=\"text-align:center\"><a href=\"/file/MjU=/fb3cb5f71b89a5d292c64eaa785fbdd6.xls\"><strong>1\n",
      "курс</strong></a></td>\n",
      "<td style=\"text-align:center\"><a href=\"/file/MjQ=/0568469fe304887c2b4e67118558a662.xls\"><strong>1\n",
      "курс</strong></a></td>\n",
      "<td style=\"text-align:center\"><a href=\"/file/Mjc=/8937e7f7074e7648821fb414979d6b4b.xls\"><strong>1\n",
      "курс</strong></a></td>\n",
      "</tr>, <tr>\n",
      "<td style=\"text-align:center\"><a href=\"/file/MjY=/b829f1bdfd628d56b3c53f5015710678.xls\"><strong>2\n",
      "курс</strong></a></td>\n",
      "<td style=\"text-align:center\"><a href=\"/file/MjM=/48dfc2156c45dd3bf4efd98358ecb23e.xls\"><strong>2\n",
      "курс</strong></a></td>\n",
      "<td style=\"text-align:center\"><a href=\"/file/Mjc=/be883a28665974c8f871f5ac7b378599.xls\"><strong>2\n",
      "курс</strong></a></td>\n",
      "<td style=\"text-align:center\"><a href=\"/file/MjU=/44439574b6ed77dce16e8d1841659526.xls\"><strong>2\n",
      "курс</strong></a></td>\n",
      "<td style=\"text-align:center\"><a href=\"/file/MjM=/6e471033e01db32713c66a7b6a04d957.xls\"><strong>2\n",
      "курс</strong></a></td>\n",
      "<td style=\"text-align:center\"><a href=\"/file/Mjc=/00e047c6e4fc5eb6f813d6c44502c6ab.xls\"><strong>2\n",
      "курс</strong></a></td>\n",
      "</tr>, <tr>\n",
      "<td style=\"text-align:center\"><a href=\"/file/MjY=/337eefe15b101d437d0bc6b40752d8e7.xls\"><strong>3\n",
      "курс</strong></a></td>\n",
      "<td style=\"text-align:center\"><a href=\"/file/Mjc=/694293c1026c2c6dcfe865ae7e450f97.xls\"><strong>3\n",
      "курс</strong></a></td>\n",
      "<td style=\"text-align:center\"><strong><a href=\"/file/Mjc=/37f7a0b81fab8ab64f556f1a062d4097.xls\">3\n",
      "курс</a></strong></td>\n",
      "<td style=\"text-align:center\"><a href=\"/file/MjU=/73cc00d0804b7df2a057529901b90561.xls\"><strong>3\n",
      "курc</strong></a></td>\n",
      "<td style=\"text-align:center\"><a href=\"/file/MjQ=/b0ed8d8642707044e715215c48a1e101.xls\"><strong>3\n",
      "курс</strong></a></td>\n",
      "<td style=\"text-align:center\"><a href=\"/file/Mjc=/cda719b86489fb1d41fc2b0c54792b1d.xls\"><strong>3\n",
      "курс</strong></a></td>\n",
      "</tr>, <tr>\n",
      "<td style=\"text-align:center\"><a href=\"/file/MjY=/f7683215387e7ab014cdcb3e52966f90.xls\"><strong>4\n",
      "курс</strong></a></td>\n",
      "<td style=\"text-align:center\"><a href=\"/file/Mjc=/c99d5d2ff7eeededfdb0a6b583ddf103.xls\"><strong>4\n",
      "курс</strong></a></td>\n",
      "<td style=\"text-align:center\"><a href=\"/file/Mjc=/aa55cf0f6200e1643a447a0b3c481a0a.xls\"><strong>4\n",
      "курс</strong></a></td>\n",
      "<td style=\"text-align:center\"><a href=\"/file/MjU=/55bca0f3dc5caaa1bf9581b99edf67ab.xls\"><strong>4\n",
      "курс</strong></a></td>\n",
      "<td style=\"text-align:center\"><a href=\"/file/MjQ=/1d1945d64ae3879c762eae1d8c95584d.xls\"><strong>4\n",
      "курс</strong></a></td>\n",
      "<td style=\"text-align:center\"><a href=\"/file/Mjc=/6714dca44d23f37ff446ac7f1c5e2147.xls\"><strong>4\n",
      "курс</strong></a></td>\n",
      "</tr>]\n"
     ]
    }
   ],
   "source": [
    "# в результаті виділили таблицю з розкладом\n",
    "rasp_lines = rasp_table.find_all('tr')\n",
    "print(rasp_lines)"
   ]
  },
  {
   "cell_type": "code",
   "execution_count": 151,
   "metadata": {},
   "outputs": [
    {
     "data": {
      "text/plain": [
       "[<td style=\"text-align:center\"><strong>ФІТ</strong></td>,\n",
       " <td style=\"text-align:center\"><strong>ФЕМП</strong></td>,\n",
       " <td style=\"text-align:center\"><strong>ФТМ</strong></td>,\n",
       " <td style=\"text-align:center\"><strong>ФРГТБ</strong></td>,\n",
       " <td style=\"text-align:center\"><strong>ФФО</strong></td>,\n",
       " <td style=\"text-align:center\"><strong>ФМТП</strong></td>]"
      ]
     },
     "execution_count": 151,
     "metadata": {},
     "output_type": "execute_result"
    }
   ],
   "source": [
    "# в першому елементі - 'шапка' таблиці\n",
    "head = rasp_lines[0].find_all('td')\n",
    "\n",
    "head"
   ]
  },
  {
   "cell_type": "code",
   "execution_count": 152,
   "metadata": {},
   "outputs": [
    {
     "data": {
      "text/plain": [
       "['ФІТ', 'ФЕМП', 'ФТМ', 'ФРГТБ', 'ФФО', 'ФМТП']"
      ]
     },
     "execution_count": 152,
     "metadata": {},
     "output_type": "execute_result"
    }
   ],
   "source": [
    "# вибираємо назви факультетів в список\n",
    "fac_names = [name.text for name in head]\n",
    "\n",
    "fac_names"
   ]
  },
  {
   "cell_type": "code",
   "execution_count": 176,
   "metadata": {},
   "outputs": [
    {
     "name": "stdout",
     "output_type": "stream",
     "text": [
      "[<tr>\n",
      "<td style=\"text-align:center\"><strong>ФІТ</strong></td>\n",
      "<td style=\"text-align:center\"><strong>ФЕМП</strong></td>\n",
      "<td style=\"text-align:center\"><strong>ФТМ</strong></td>\n",
      "<td style=\"text-align:center\"><strong>ФРГТБ</strong></td>\n",
      "<td style=\"text-align:center\"><strong>ФФО</strong></td>\n",
      "<td style=\"text-align:center\"><strong>ФМТП</strong></td>\n",
      "</tr>, <tr>\n",
      "<td style=\"text-align:center\"><a href=\"/file/MjY=/23d2ede3a07a98bec586cf2368cec077.xls\"><strong>1\n",
      "курс</strong></a></td>\n",
      "<td style=\"text-align:center\"><a href=\"/file/MjM=/d729b8ba54cdccb69db49f5a0d7d7eb1.xls\"><strong>1\n",
      "курс</strong></a></td>\n",
      "<td style=\"text-align:center\"><a href=\"/file/Mjc=/8d92d521c99d133fa3146b4dc74248f6.xls\"><strong>1\n",
      "курс </strong></a></td>\n",
      "<td style=\"text-align:center\"><a href=\"/file/MjU=/fb3cb5f71b89a5d292c64eaa785fbdd6.xls\"><strong>1\n",
      "курс</strong></a></td>\n",
      "<td style=\"text-align:center\"><a href=\"/file/MjQ=/0568469fe304887c2b4e67118558a662.xls\"><strong>1\n",
      "курс</strong></a></td>\n",
      "<td style=\"text-align:center\"><a href=\"/file/Mjc=/8937e7f7074e7648821fb414979d6b4b.xls\"><strong>1\n",
      "курс</strong></a></td>\n",
      "</tr>, <tr>\n",
      "<td style=\"text-align:center\"><a href=\"/file/MjY=/b829f1bdfd628d56b3c53f5015710678.xls\"><strong>2\n",
      "курс</strong></a></td>\n",
      "<td style=\"text-align:center\"><a href=\"/file/MjM=/48dfc2156c45dd3bf4efd98358ecb23e.xls\"><strong>2\n",
      "курс</strong></a></td>\n",
      "<td style=\"text-align:center\"><a href=\"/file/Mjc=/be883a28665974c8f871f5ac7b378599.xls\"><strong>2\n",
      "курс</strong></a></td>\n",
      "<td style=\"text-align:center\"><a href=\"/file/MjU=/44439574b6ed77dce16e8d1841659526.xls\"><strong>2\n",
      "курс</strong></a></td>\n",
      "<td style=\"text-align:center\"><a href=\"/file/MjM=/6e471033e01db32713c66a7b6a04d957.xls\"><strong>2\n",
      "курс</strong></a></td>\n",
      "<td style=\"text-align:center\"><a href=\"/file/Mjc=/00e047c6e4fc5eb6f813d6c44502c6ab.xls\"><strong>2\n",
      "курс</strong></a></td>\n",
      "</tr>, <tr>\n",
      "<td style=\"text-align:center\"><a href=\"/file/MjY=/337eefe15b101d437d0bc6b40752d8e7.xls\"><strong>3\n",
      "курс</strong></a></td>\n",
      "<td style=\"text-align:center\"><a href=\"/file/Mjc=/694293c1026c2c6dcfe865ae7e450f97.xls\"><strong>3\n",
      "курс</strong></a></td>\n",
      "<td style=\"text-align:center\"><strong><a href=\"/file/Mjc=/37f7a0b81fab8ab64f556f1a062d4097.xls\">3\n",
      "курс</a></strong></td>\n",
      "<td style=\"text-align:center\"><a href=\"/file/MjU=/73cc00d0804b7df2a057529901b90561.xls\"><strong>3\n",
      "курc</strong></a></td>\n",
      "<td style=\"text-align:center\"><a href=\"/file/MjQ=/b0ed8d8642707044e715215c48a1e101.xls\"><strong>3\n",
      "курс</strong></a></td>\n",
      "<td style=\"text-align:center\"><a href=\"/file/Mjc=/cda719b86489fb1d41fc2b0c54792b1d.xls\"><strong>3\n",
      "курс</strong></a></td>\n",
      "</tr>, <tr>\n",
      "<td style=\"text-align:center\"><a href=\"/file/MjY=/f7683215387e7ab014cdcb3e52966f90.xls\"><strong>4\n",
      "курс</strong></a></td>\n",
      "<td style=\"text-align:center\"><a href=\"/file/Mjc=/c99d5d2ff7eeededfdb0a6b583ddf103.xls\"><strong>4\n",
      "курс</strong></a></td>\n",
      "<td style=\"text-align:center\"><a href=\"/file/Mjc=/aa55cf0f6200e1643a447a0b3c481a0a.xls\"><strong>4\n",
      "курс</strong></a></td>\n",
      "<td style=\"text-align:center\"><a href=\"/file/MjU=/55bca0f3dc5caaa1bf9581b99edf67ab.xls\"><strong>4\n",
      "курс</strong></a></td>\n",
      "<td style=\"text-align:center\"><a href=\"/file/MjQ=/1d1945d64ae3879c762eae1d8c95584d.xls\"><strong>4\n",
      "курс</strong></a></td>\n",
      "<td style=\"text-align:center\"><a href=\"/file/Mjc=/6714dca44d23f37ff446ac7f1c5e2147.xls\"><strong>4\n",
      "курс</strong></a></td>\n",
      "</tr>]\n"
     ]
    }
   ],
   "source": [
    "# далі з 1 рядка йдуть строки с посиланнями по курсам\n",
    "rasp_lines[1:]\n",
    "print(rasp_lines)"
   ]
  },
  {
   "cell_type": "code",
   "execution_count": 177,
   "metadata": {
    "scrolled": true
   },
   "outputs": [
    {
     "data": {
      "text/plain": [
       "[['/file/MjY=/23d2ede3a07a98bec586cf2368cec077.xls', '1'],\n",
       " ['/file/MjM=/d729b8ba54cdccb69db49f5a0d7d7eb1.xls', '1'],\n",
       " ['/file/Mjc=/8d92d521c99d133fa3146b4dc74248f6.xls', '1'],\n",
       " ['/file/MjU=/fb3cb5f71b89a5d292c64eaa785fbdd6.xls', '1'],\n",
       " ['/file/MjQ=/0568469fe304887c2b4e67118558a662.xls', '1'],\n",
       " ['/file/Mjc=/8937e7f7074e7648821fb414979d6b4b.xls', '1']]"
      ]
     },
     "execution_count": 177,
     "metadata": {},
     "output_type": "execute_result"
    }
   ],
   "source": [
    "hrefs = [[a['href'], a.text.split('\\n')[0]] for a in rasp_lines[1].find_all('a')]\n",
    "hrefs"
   ]
  },
  {
   "cell_type": "code",
   "execution_count": 178,
   "metadata": {},
   "outputs": [],
   "source": [
    "# вилучаємо номер курсу та адресу excel-файла в список 'result_list'\n",
    "result_list = []\n",
    "for line in rasp_lines[1:]:\n",
    "    href = [[a.text.split('\\n')[0], a['href']] for a in line.find_all('a')]\n",
    "    result_list.append(list(zip(fac_names, href)))"
   ]
  },
  {
   "cell_type": "code",
   "execution_count": 179,
   "metadata": {},
   "outputs": [],
   "source": [
    "# робимо остаточний список\n",
    "result = []\n",
    "for item in result_list:\n",
    "    for elem in item:\n",
    "        result.append([elem[0], elem[1][0], 'https://knute.edu.ua' + elem[1][1]])"
   ]
  },
  {
   "cell_type": "code",
   "execution_count": 180,
   "metadata": {},
   "outputs": [
    {
     "data": {
      "text/plain": [
       "[['Факультет міжнародної торгівлі та права',\n",
       "  '1',\n",
       "  'https://knute.edu.ua/file/MjY=/23d2ede3a07a98bec586cf2368cec077.xls'],\n",
       " ['Факультет торгівлі та маркетингу',\n",
       "  '1',\n",
       "  'https://knute.edu.ua/file/MjM=/d729b8ba54cdccb69db49f5a0d7d7eb1.xls'],\n",
       " ['Факультет економіки, менеджменту та психології',\n",
       "  '1',\n",
       "  'https://knute.edu.ua/file/Mjc=/8d92d521c99d133fa3146b4dc74248f6.xls'],\n",
       " ['Факультет інформаційних технологій',\n",
       "  '1',\n",
       "  'https://knute.edu.ua/file/MjU=/fb3cb5f71b89a5d292c64eaa785fbdd6.xls'],\n",
       " ['Факультет ресторанно-готельного та туристичного бізнесу ',\n",
       "  '1',\n",
       "  'https://knute.edu.ua/file/MjQ=/0568469fe304887c2b4e67118558a662.xls']]"
      ]
     },
     "execution_count": 180,
     "metadata": {},
     "output_type": "execute_result"
    }
   ],
   "source": [
    "result[:5]"
   ]
  },
  {
   "cell_type": "code",
   "execution_count": 181,
   "metadata": {},
   "outputs": [],
   "source": [
    "import pandas as pd"
   ]
  },
  {
   "cell_type": "code",
   "execution_count": 182,
   "metadata": {},
   "outputs": [
    {
     "data": {
      "text/html": [
       "<div>\n",
       "<style scoped>\n",
       "    .dataframe tbody tr th:only-of-type {\n",
       "        vertical-align: middle;\n",
       "    }\n",
       "\n",
       "    .dataframe tbody tr th {\n",
       "        vertical-align: top;\n",
       "    }\n",
       "\n",
       "    .dataframe thead th {\n",
       "        text-align: right;\n",
       "    }\n",
       "</style>\n",
       "<table border=\"1\" class=\"dataframe\">\n",
       "  <thead>\n",
       "    <tr style=\"text-align: right;\">\n",
       "      <th></th>\n",
       "      <th>Факультет</th>\n",
       "      <th>Курс</th>\n",
       "      <th>URL</th>\n",
       "    </tr>\n",
       "  </thead>\n",
       "  <tbody>\n",
       "    <tr>\n",
       "      <th>0</th>\n",
       "      <td>Факультет міжнародної торгівлі та права</td>\n",
       "      <td>1</td>\n",
       "      <td>https://knute.edu.ua/file/MjY=/23d2ede3a07a98b...</td>\n",
       "    </tr>\n",
       "    <tr>\n",
       "      <th>1</th>\n",
       "      <td>Факультет торгівлі та маркетингу</td>\n",
       "      <td>1</td>\n",
       "      <td>https://knute.edu.ua/file/MjM=/d729b8ba54cdccb...</td>\n",
       "    </tr>\n",
       "    <tr>\n",
       "      <th>2</th>\n",
       "      <td>Факультет економіки, менеджменту та психології</td>\n",
       "      <td>1</td>\n",
       "      <td>https://knute.edu.ua/file/Mjc=/8d92d521c99d133...</td>\n",
       "    </tr>\n",
       "    <tr>\n",
       "      <th>3</th>\n",
       "      <td>Факультет інформаційних технологій</td>\n",
       "      <td>1</td>\n",
       "      <td>https://knute.edu.ua/file/MjU=/fb3cb5f71b89a5d...</td>\n",
       "    </tr>\n",
       "    <tr>\n",
       "      <th>4</th>\n",
       "      <td>Факультет ресторанно-готельного та туристичног...</td>\n",
       "      <td>1</td>\n",
       "      <td>https://knute.edu.ua/file/MjQ=/0568469fe304887...</td>\n",
       "    </tr>\n",
       "    <tr>\n",
       "      <th>5</th>\n",
       "      <td>Факультет фінансів та обліку</td>\n",
       "      <td>1</td>\n",
       "      <td>https://knute.edu.ua/file/Mjc=/8937e7f7074e764...</td>\n",
       "    </tr>\n",
       "    <tr>\n",
       "      <th>6</th>\n",
       "      <td>Факультет міжнародної торгівлі та права</td>\n",
       "      <td>2</td>\n",
       "      <td>https://knute.edu.ua/file/MjY=/b829f1bdfd628d5...</td>\n",
       "    </tr>\n",
       "    <tr>\n",
       "      <th>7</th>\n",
       "      <td>Факультет торгівлі та маркетингу</td>\n",
       "      <td>2</td>\n",
       "      <td>https://knute.edu.ua/file/MjM=/48dfc2156c45dd3...</td>\n",
       "    </tr>\n",
       "    <tr>\n",
       "      <th>8</th>\n",
       "      <td>Факультет економіки, менеджменту та психології</td>\n",
       "      <td>2</td>\n",
       "      <td>https://knute.edu.ua/file/Mjc=/be883a28665974c...</td>\n",
       "    </tr>\n",
       "    <tr>\n",
       "      <th>9</th>\n",
       "      <td>Факультет інформаційних технологій</td>\n",
       "      <td>2</td>\n",
       "      <td>https://knute.edu.ua/file/MjU=/44439574b6ed77d...</td>\n",
       "    </tr>\n",
       "  </tbody>\n",
       "</table>\n",
       "</div>"
      ],
      "text/plain": [
       "                                           Факультет Курс  \\\n",
       "0            Факультет міжнародної торгівлі та права    1   \n",
       "1                   Факультет торгівлі та маркетингу    1   \n",
       "2     Факультет економіки, менеджменту та психології    1   \n",
       "3                 Факультет інформаційних технологій    1   \n",
       "4  Факультет ресторанно-готельного та туристичног...    1   \n",
       "5                       Факультет фінансів та обліку    1   \n",
       "6            Факультет міжнародної торгівлі та права    2   \n",
       "7                   Факультет торгівлі та маркетингу    2   \n",
       "8     Факультет економіки, менеджменту та психології    2   \n",
       "9                 Факультет інформаційних технологій    2   \n",
       "\n",
       "                                                 URL  \n",
       "0  https://knute.edu.ua/file/MjY=/23d2ede3a07a98b...  \n",
       "1  https://knute.edu.ua/file/MjM=/d729b8ba54cdccb...  \n",
       "2  https://knute.edu.ua/file/Mjc=/8d92d521c99d133...  \n",
       "3  https://knute.edu.ua/file/MjU=/fb3cb5f71b89a5d...  \n",
       "4  https://knute.edu.ua/file/MjQ=/0568469fe304887...  \n",
       "5  https://knute.edu.ua/file/Mjc=/8937e7f7074e764...  \n",
       "6  https://knute.edu.ua/file/MjY=/b829f1bdfd628d5...  \n",
       "7  https://knute.edu.ua/file/MjM=/48dfc2156c45dd3...  \n",
       "8  https://knute.edu.ua/file/Mjc=/be883a28665974c...  \n",
       "9  https://knute.edu.ua/file/MjU=/44439574b6ed77d...  "
      ]
     },
     "execution_count": 182,
     "metadata": {},
     "output_type": "execute_result"
    }
   ],
   "source": [
    "# завантажимо результат в датафрейм\n",
    "df = pd.DataFrame(result, columns=['Факультет', 'Курс', 'URL'])\n",
    "df.head(10)"
   ]
  },
  {
   "cell_type": "code",
   "execution_count": 183,
   "metadata": {},
   "outputs": [
    {
     "data": {
      "text/plain": [
       "array(['https://knute.edu.ua/file/MjY=/23d2ede3a07a98bec586cf2368cec077.xls',\n",
       "       'https://knute.edu.ua/file/MjM=/d729b8ba54cdccb69db49f5a0d7d7eb1.xls',\n",
       "       'https://knute.edu.ua/file/Mjc=/8d92d521c99d133fa3146b4dc74248f6.xls',\n",
       "       'https://knute.edu.ua/file/MjU=/fb3cb5f71b89a5d292c64eaa785fbdd6.xls',\n",
       "       'https://knute.edu.ua/file/MjQ=/0568469fe304887c2b4e67118558a662.xls'],\n",
       "      dtype=object)"
      ]
     },
     "execution_count": 183,
     "metadata": {},
     "output_type": "execute_result"
    }
   ],
   "source": [
    "df['URL'].values[:5]"
   ]
  },
  {
   "cell_type": "code",
   "execution_count": 184,
   "metadata": {},
   "outputs": [],
   "source": [
    "# відсортуєм по факультету-курсу\n",
    "df_sorted = df.sort_values(by=['Факультет', 'Курс'])"
   ]
  },
  {
   "cell_type": "code",
   "execution_count": 185,
   "metadata": {},
   "outputs": [
    {
     "data": {
      "text/html": [
       "<div>\n",
       "<style scoped>\n",
       "    .dataframe tbody tr th:only-of-type {\n",
       "        vertical-align: middle;\n",
       "    }\n",
       "\n",
       "    .dataframe tbody tr th {\n",
       "        vertical-align: top;\n",
       "    }\n",
       "\n",
       "    .dataframe thead th {\n",
       "        text-align: right;\n",
       "    }\n",
       "</style>\n",
       "<table border=\"1\" class=\"dataframe\">\n",
       "  <thead>\n",
       "    <tr style=\"text-align: right;\">\n",
       "      <th></th>\n",
       "      <th>Факультет</th>\n",
       "      <th>Курс</th>\n",
       "      <th>URL</th>\n",
       "    </tr>\n",
       "  </thead>\n",
       "  <tbody>\n",
       "    <tr>\n",
       "      <th>2</th>\n",
       "      <td>Факультет економіки, менеджменту та психології</td>\n",
       "      <td>1</td>\n",
       "      <td>https://knute.edu.ua/file/Mjc=/8d92d521c99d133...</td>\n",
       "    </tr>\n",
       "    <tr>\n",
       "      <th>8</th>\n",
       "      <td>Факультет економіки, менеджменту та психології</td>\n",
       "      <td>2</td>\n",
       "      <td>https://knute.edu.ua/file/Mjc=/be883a28665974c...</td>\n",
       "    </tr>\n",
       "    <tr>\n",
       "      <th>14</th>\n",
       "      <td>Факультет економіки, менеджменту та психології</td>\n",
       "      <td>3</td>\n",
       "      <td>https://knute.edu.ua/file/Mjc=/37f7a0b81fab8ab...</td>\n",
       "    </tr>\n",
       "    <tr>\n",
       "      <th>20</th>\n",
       "      <td>Факультет економіки, менеджменту та психології</td>\n",
       "      <td>4</td>\n",
       "      <td>https://knute.edu.ua/file/Mjc=/aa55cf0f6200e16...</td>\n",
       "    </tr>\n",
       "    <tr>\n",
       "      <th>0</th>\n",
       "      <td>Факультет міжнародної торгівлі та права</td>\n",
       "      <td>1</td>\n",
       "      <td>https://knute.edu.ua/file/MjY=/23d2ede3a07a98b...</td>\n",
       "    </tr>\n",
       "  </tbody>\n",
       "</table>\n",
       "</div>"
      ],
      "text/plain": [
       "                                         Факультет Курс  \\\n",
       "2   Факультет економіки, менеджменту та психології    1   \n",
       "8   Факультет економіки, менеджменту та психології    2   \n",
       "14  Факультет економіки, менеджменту та психології    3   \n",
       "20  Факультет економіки, менеджменту та психології    4   \n",
       "0          Факультет міжнародної торгівлі та права    1   \n",
       "\n",
       "                                                  URL  \n",
       "2   https://knute.edu.ua/file/Mjc=/8d92d521c99d133...  \n",
       "8   https://knute.edu.ua/file/Mjc=/be883a28665974c...  \n",
       "14  https://knute.edu.ua/file/Mjc=/37f7a0b81fab8ab...  \n",
       "20  https://knute.edu.ua/file/Mjc=/aa55cf0f6200e16...  \n",
       "0   https://knute.edu.ua/file/MjY=/23d2ede3a07a98b...  "
      ]
     },
     "execution_count": 185,
     "metadata": {},
     "output_type": "execute_result"
    }
   ],
   "source": [
    "df_sorted.head()"
   ]
  },
  {
   "cell_type": "code",
   "execution_count": 186,
   "metadata": {},
   "outputs": [
    {
     "data": {
      "text/html": [
       "<div>\n",
       "<style scoped>\n",
       "    .dataframe tbody tr th:only-of-type {\n",
       "        vertical-align: middle;\n",
       "    }\n",
       "\n",
       "    .dataframe tbody tr th {\n",
       "        vertical-align: top;\n",
       "    }\n",
       "\n",
       "    .dataframe thead th {\n",
       "        text-align: right;\n",
       "    }\n",
       "</style>\n",
       "<table border=\"1\" class=\"dataframe\">\n",
       "  <thead>\n",
       "    <tr style=\"text-align: right;\">\n",
       "      <th></th>\n",
       "      <th>Курс</th>\n",
       "      <th>URL</th>\n",
       "    </tr>\n",
       "    <tr>\n",
       "      <th>Факультет</th>\n",
       "      <th></th>\n",
       "      <th></th>\n",
       "    </tr>\n",
       "  </thead>\n",
       "  <tbody>\n",
       "    <tr>\n",
       "      <th>Факультет економіки, менеджменту та психології</th>\n",
       "      <td>1</td>\n",
       "      <td>https://knute.edu.ua/file/Mjc=/8d92d521c99d133...</td>\n",
       "    </tr>\n",
       "    <tr>\n",
       "      <th>Факультет економіки, менеджменту та психології</th>\n",
       "      <td>2</td>\n",
       "      <td>https://knute.edu.ua/file/Mjc=/be883a28665974c...</td>\n",
       "    </tr>\n",
       "    <tr>\n",
       "      <th>Факультет економіки, менеджменту та психології</th>\n",
       "      <td>3</td>\n",
       "      <td>https://knute.edu.ua/file/Mjc=/37f7a0b81fab8ab...</td>\n",
       "    </tr>\n",
       "    <tr>\n",
       "      <th>Факультет економіки, менеджменту та психології</th>\n",
       "      <td>4</td>\n",
       "      <td>https://knute.edu.ua/file/Mjc=/aa55cf0f6200e16...</td>\n",
       "    </tr>\n",
       "    <tr>\n",
       "      <th>Факультет міжнародної торгівлі та права</th>\n",
       "      <td>1</td>\n",
       "      <td>https://knute.edu.ua/file/MjY=/23d2ede3a07a98b...</td>\n",
       "    </tr>\n",
       "    <tr>\n",
       "      <th>Факультет міжнародної торгівлі та права</th>\n",
       "      <td>2</td>\n",
       "      <td>https://knute.edu.ua/file/MjY=/b829f1bdfd628d5...</td>\n",
       "    </tr>\n",
       "    <tr>\n",
       "      <th>Факультет міжнародної торгівлі та права</th>\n",
       "      <td>3</td>\n",
       "      <td>https://knute.edu.ua/file/MjY=/337eefe15b101d4...</td>\n",
       "    </tr>\n",
       "  </tbody>\n",
       "</table>\n",
       "</div>"
      ],
      "text/plain": [
       "                                               Курс  \\\n",
       "Факультет                                             \n",
       "Факультет економіки, менеджменту та психології    1   \n",
       "Факультет економіки, менеджменту та психології    2   \n",
       "Факультет економіки, менеджменту та психології    3   \n",
       "Факультет економіки, менеджменту та психології    4   \n",
       "Факультет міжнародної торгівлі та права           1   \n",
       "Факультет міжнародної торгівлі та права           2   \n",
       "Факультет міжнародної торгівлі та права           3   \n",
       "\n",
       "                                                                                              URL  \n",
       "Факультет                                                                                          \n",
       "Факультет економіки, менеджменту та психології  https://knute.edu.ua/file/Mjc=/8d92d521c99d133...  \n",
       "Факультет економіки, менеджменту та психології  https://knute.edu.ua/file/Mjc=/be883a28665974c...  \n",
       "Факультет економіки, менеджменту та психології  https://knute.edu.ua/file/Mjc=/37f7a0b81fab8ab...  \n",
       "Факультет економіки, менеджменту та психології  https://knute.edu.ua/file/Mjc=/aa55cf0f6200e16...  \n",
       "Факультет міжнародної торгівлі та права         https://knute.edu.ua/file/MjY=/23d2ede3a07a98b...  \n",
       "Факультет міжнародної торгівлі та права         https://knute.edu.ua/file/MjY=/b829f1bdfd628d5...  \n",
       "Факультет міжнародної торгівлі та права         https://knute.edu.ua/file/MjY=/337eefe15b101d4...  "
      ]
     },
     "execution_count": 186,
     "metadata": {},
     "output_type": "execute_result"
    }
   ],
   "source": [
    "df_sorted.set_index('Факультет')[:7]"
   ]
  },
  {
   "cell_type": "markdown",
   "metadata": {},
   "source": [
    "## ІНДИВІДУАЛЬНЕ ЗАВДАННЯ"
   ]
  },
  {
   "cell_type": "markdown",
   "metadata": {},
   "source": [
    "З [головної сторінки](https://knute.edu.ua/blog/read/?pid=1038&uk) сайту КНТЕУ вилучити інформацію про факультети, кафедри та посилання на відповідні сторінки та представити результат в наступному вигляді:\n",
    "\n",
    "Назва факультету __<Закріпленій за вамі факультет>__\n",
    "\n",
    "№   | Назва кафедри | URL кафедри\n",
    ":--:|:--------|:--------\n",
    "1 |  <_назва 1> | <url 1>\n",
    "2 |  <_назва 1> | <url 1>\n",
    "3 |  <_назва 1> | <url 1>\n",
    "...| ... |...\n"
   ]
  },
  {
   "cell_type": "code",
   "execution_count": 1,
   "metadata": {
    "run_control": {
     "marked": true
    },
    "scrolled": true
   },
   "outputs": [
    {
     "name": "stdout",
     "output_type": "stream",
     "text": [
      "['ConnectTimeout', 'ConnectionError', 'DependencyWarning', 'FileModeWarning', 'HTTPError', 'NullHandler', 'PreparedRequest', 'ReadTimeout', 'Request', 'RequestException', 'RequestsDependencyWarning', 'Response', 'Session', 'Timeout', 'TooManyRedirects', 'URLRequired', '__author__', '__author_email__', '__build__', '__builtins__', '__cached__', '__cake__', '__copyright__', '__description__', '__doc__', '__file__', '__license__', '__loader__', '__name__', '__package__', '__path__', '__spec__', '__title__', '__url__', '__version__', '_check_cryptography', '_internal_utils', 'adapters', 'api', 'auth', 'certs', 'chardet', 'check_compatibility', 'codes', 'compat', 'cookies', 'delete', 'exceptions', 'get', 'head', 'hooks', 'logging', 'models', 'options', 'packages', 'patch', 'post', 'put', 'request', 'session', 'sessions', 'ssl', 'status_codes', 'structures', 'urllib3', 'utils', 'warnings']\n"
     ]
    }
   ],
   "source": [
    "# імпортувати бібліотеку Requests\n",
    "import requests\n",
    "print(dir(requests))"
   ]
  },
  {
   "cell_type": "code",
   "execution_count": 2,
   "metadata": {},
   "outputs": [],
   "source": [
    "requests.get?"
   ]
  },
  {
   "cell_type": "code",
   "execution_count": 3,
   "metadata": {
    "run_control": {
     "marked": true
    }
   },
   "outputs": [
    {
     "name": "stdout",
     "output_type": "stream",
     "text": [
      "['__attrs__', '__bool__', '__class__', '__delattr__', '__dict__', '__dir__', '__doc__', '__enter__', '__eq__', '__exit__', '__format__', '__ge__', '__getattribute__', '__getstate__', '__gt__', '__hash__', '__init__', '__init_subclass__', '__iter__', '__le__', '__lt__', '__module__', '__ne__', '__new__', '__nonzero__', '__reduce__', '__reduce_ex__', '__repr__', '__setattr__', '__setstate__', '__sizeof__', '__str__', '__subclasshook__', '__weakref__', '_content', '_content_consumed', '_next', 'apparent_encoding', 'close', 'connection', 'content', 'cookies', 'elapsed', 'encoding', 'headers', 'history', 'is_permanent_redirect', 'is_redirect', 'iter_content', 'iter_lines', 'json', 'links', 'next', 'ok', 'raise_for_status', 'raw', 'reason', 'request', 'status_code', 'text', 'url']\n"
     ]
    },
    {
     "data": {
      "text/plain": [
       "'<!DOCTYPE html>\\n<html ng-app=\"siteApp\">\\n  <head>\\n<meta http-equiv=\"Content-Type\" content=\"text/html; charset=utf-8\" /><meta name=\"viewport\" content=\"width=500px, initial-scale=0.7\" /><meta property=\"og:image\" content=\"/img/main_top.jpg\" /><meta property=\"og:title\" content=\"Ð\\x9aÐ¸Ñ\\x97Ð²Ñ\\x81Ñ\\x8cÐºÐ¸Ð¹ Ð½Ð°Ñ\\x86Ñ\\x96Ð¾Ð½Ð°Ð»Ñ\\x8cÐ½Ð¸Ð¹ Ñ\\x82Ð¾Ñ\\x80Ð³Ð¾Ð²ÐµÐ»Ñ\\x8cÐ½Ð¾-ÐµÐºÐ¾Ð½Ð¾Ð¼Ñ\\x96Ñ\\x87Ð½Ð¸Ð¹ Ñ\\x83Ð½Ñ\\x96Ð²ÐµÑ\\x80Ñ\\x81Ð¸Ñ\\x82ÐµÑ\\x82\" /><meta property=\"og:description\" content=\"Ð\\x9aÐ\\x9dÐ¢Ð\\x95Ð£, Ð\\x95Ð\\x9bÐ\\x86Ð¢Ð\\x9dÐ\\x90 Ð\\x9eÐ¡Ð\\x92Ð\\x86Ð¢Ð\\x90, Ð\\xa0ÐµÑ\\x82Ð¸Ð¹Ð½Ð³ Ð²Ð½Ð·, Ð\\x95ÐºÐ¾Ð'"
      ]
     },
     "execution_count": 3,
     "metadata": {},
     "output_type": "execute_result"
    }
   ],
   "source": [
    "# зчитати головну сторінку та виправити кодування (якщо необхідно)\n",
    "url = 'https://knute.edu.ua/'\n",
    "main_page = requests.get(url)\n",
    "print(dir(main_page))\n",
    "main_page.text[:500]"
   ]
  },
  {
   "cell_type": "code",
   "execution_count": 4,
   "metadata": {},
   "outputs": [
    {
     "name": "stdout",
     "output_type": "stream",
     "text": [
      "<!DOCTYPE html>\n",
      "<html ng-app=\"siteApp\">\n",
      "  <head>\n",
      "<meta http-equiv=\"Content-Type\" content=\"text/html; charset=utf-8\" /><meta name=\"viewport\" content=\"width=500px, initial-scale=0.7\" /><meta property=\"og:image\" content=\"/img/main_top.jpg\" /><meta property=\"og:title\" content=\"Київський національний торговельно-економічний університет\" /><meta property=\"og:description\" content=\"КНТЕУ, ЕЛІТНА ОСВІТА, Ретийнг внз, Економічна освіта, ВИЩА ОСВІТА, ОСВІТА В УКРАЇНІ, МАГІСТРАТУРА, ДОКТОРАНТУРА, МВА, МАРКЕ\n"
     ]
    }
   ],
   "source": [
    "main_page.encoding\n",
    "main_page.apparent_encoding\n",
    "main_page.encoding = main_page.apparent_encoding\n",
    "print(main_page.text[:500])\n",
    "knteu_main_page = main_page.text"
   ]
  },
  {
   "cell_type": "markdown",
   "metadata": {},
   "source": [
    "#### за допомогою [Chrome DevTools](https://htmlacademy.ru/blog/boost/tools/chrome-devtools-1) проаналізувати структуру сторінки, визначити об'єкти що потребують вилучення та розробити стратегію скрапінга"
   ]
  },
  {
   "cell_type": "code",
   "execution_count": 5,
   "metadata": {
    "run_control": {
     "marked": true
    }
   },
   "outputs": [
    {
     "name": "stdout",
     "output_type": "stream",
     "text": [
      "Requirement already satisfied: beautifulsoup4 in d:\\programs\\anaconda\\lib\\site-packages (4.9.3)\n",
      "Requirement already satisfied: soupsieve>1.2; python_version >= \"3.0\" in d:\\programs\\anaconda\\lib\\site-packages (from beautifulsoup4) (2.0.1)\n"
     ]
    }
   ],
   "source": [
    "# імпортувати html-парсер бібліотеки  BeautifulSoup\n",
    "!pip install beautifulsoup4"
   ]
  },
  {
   "cell_type": "code",
   "execution_count": 6,
   "metadata": {},
   "outputs": [],
   "source": [
    "from bs4 import BeautifulSoup as bs\n",
    "\n",
    "bs?"
   ]
  },
  {
   "cell_type": "code",
   "execution_count": 7,
   "metadata": {
    "run_control": {
     "marked": true
    }
   },
   "outputs": [],
   "source": [
    "# розпарсити сторінку `main_page`\n",
    "main_page_parsed = bs(knteu_main_page, features='html.parser')"
   ]
  },
  {
   "cell_type": "code",
   "execution_count": 8,
   "metadata": {},
   "outputs": [
    {
     "name": "stdout",
     "output_type": "stream",
     "text": [
      "['ASCII_SPACES', 'DEFAULT_BUILDER_FEATURES', 'NO_PARSER_SPECIFIED_WARNING', 'ROOT_TAG_NAME', '__bool__', '__call__', '__class__', '__contains__', '__copy__', '__delattr__', '__delitem__', '__dict__', '__dir__', '__doc__', '__eq__', '__format__', '__ge__', '__getattr__', '__getattribute__', '__getitem__', '__getstate__', '__gt__', '__hash__', '__init__', '__init_subclass__', '__iter__', '__le__', '__len__', '__lt__', '__module__', '__ne__', '__new__', '__reduce__', '__reduce_ex__', '__repr__', '__setattr__', '__setitem__', '__sizeof__', '__str__', '__subclasshook__', '__unicode__', '__weakref__', '_all_strings', '_check_markup_is_url', '_decode_markup', '_feed', '_find_all', '_find_one', '_is_xml', '_lastRecursiveChild', '_last_descendant', '_linkage_fixer', '_most_recent_element', '_namespaces', '_popToTag', '_should_pretty_print', 'append', 'attrs', 'builder', 'can_be_empty_element', 'cdata_list_attributes', 'childGenerator', 'children', 'clear', 'contains_replacement_characters', 'contents', 'currentTag', 'current_data', 'declared_html_encoding', 'decode', 'decode_contents', 'decompose', 'decomposed', 'descendants', 'element_classes', 'encode', 'encode_contents', 'endData', 'extend', 'extract', 'fetchNextSiblings', 'fetchParents', 'fetchPrevious', 'fetchPreviousSiblings', 'find', 'findAll', 'findAllNext', 'findAllPrevious', 'findChild', 'findChildren', 'findNext', 'findNextSibling', 'findNextSiblings', 'findParent', 'findParents', 'findPrevious', 'findPreviousSibling', 'findPreviousSiblings', 'find_all', 'find_all_next', 'find_all_previous', 'find_next', 'find_next_sibling', 'find_next_siblings', 'find_parent', 'find_parents', 'find_previous', 'find_previous_sibling', 'find_previous_siblings', 'format_string', 'formatter_for_name', 'get', 'getText', 'get_attribute_list', 'get_text', 'handle_data', 'handle_endtag', 'handle_starttag', 'has_attr', 'has_key', 'hidden', 'index', 'insert', 'insert_after', 'insert_before', 'isSelfClosing', 'is_empty_element', 'is_xml', 'known_xml', 'markup', 'name', 'namespace', 'new_string', 'new_tag', 'next', 'nextGenerator', 'nextSibling', 'nextSiblingGenerator', 'next_element', 'next_elements', 'next_sibling', 'next_siblings', 'object_was_parsed', 'open_tag_counter', 'original_encoding', 'parent', 'parentGenerator', 'parents', 'parse_only', 'parserClass', 'parser_class', 'popTag', 'prefix', 'preserve_whitespace_tag_stack', 'preserve_whitespace_tags', 'prettify', 'previous', 'previousGenerator', 'previousSibling', 'previousSiblingGenerator', 'previous_element', 'previous_elements', 'previous_sibling', 'previous_siblings', 'pushTag', 'recursiveChildGenerator', 'renderContents', 'replaceWith', 'replaceWithChildren', 'replace_with', 'replace_with_children', 'reset', 'select', 'select_one', 'setup', 'smooth', 'string', 'string_container', 'string_container_stack', 'strings', 'stripped_strings', 'tagStack', 'text', 'unwrap', 'wrap']\n"
     ]
    }
   ],
   "source": [
    "print(dir(main_page_parsed))"
   ]
  },
  {
   "cell_type": "markdown",
   "metadata": {},
   "source": [
    "#### застосувати вибрану стратегію для вилученя назв кафедр та їх url"
   ]
  },
  {
   "cell_type": "code",
   "execution_count": 9,
   "metadata": {
    "run_control": {
     "marked": true
    },
    "scrolled": true
   },
   "outputs": [
    {
     "name": "stdout",
     "output_type": "stream",
     "text": [
      "<span class=\"short-menu-item\">Факультети кафедри</span>\n"
     ]
    }
   ],
   "source": [
    "back = main_page_parsed.find('span', text='Факультети кафедри')\n",
    "print(back)"
   ]
  },
  {
   "cell_type": "code",
   "execution_count": 16,
   "metadata": {
    "run_control": {
     "marked": true
    },
    "scrolled": true
   },
   "outputs": [
    {
     "name": "stdout",
     "output_type": "stream",
     "text": [
      "<ul class=\"dropdown-menu\">\n",
      "<li><a href=\"/blog/read?n=fmtp&amp;uk\"><span class=\"prev-link\">Факультет міжнародної торгівлі та права</span></a></li><li><a class=\"att-menu-item\" href=\"/blog/read?n=svitovoyi ekonomiki&amp;uk\">Кафедра світової економіки</a></li><li><a class=\"att-menu-item\" href=\"/blog/read?n=Department of International Economics&amp;uk\">Кафедра міжнародного менеджменту</a></li><li><a class=\"att-menu-item\" href=\"/blog/read?n=ipcc-law&amp;uk\">Кафедра міжнародного, цивільного та комерційного права</a></li><li><a class=\"att-menu-item\" href=\"/blog/read?n=Department of Commercial Law&amp;uk\">Кафедра адміністративного, фінансового та інформаційного права</a></li><li><a class=\"att-menu-item\" href=\"/blog/read?n=Department of Law&amp;uk\">Кафедра правового забезпечення безпеки бізнесу</a></li><li><a class=\"att-menu-item\" href=\"/blog/read?n=Department of Modern European Languages&amp;uk\">Кафедра сучасних європейських мов</a></li><li><a class=\"att-menu-item\" href=\"/blog/read?n=Department filosofsmbkikh ta socialmbnikh nauk&amp;uk\">Кафедра філософії, соціології та політології</a></li><li><a href=\"/blog/read?n=ftm&amp;uk\"><span class=\"prev-link\">Факультет торгівлі та маркетингу</span></a></li><li><a class=\"att-menu-item\" href=\"/blog/read?n=Department of Enterprise Trade&amp;uk\">Кафедра торговельного підприємництва та логістики</a></li><li><a class=\"att-menu-item\" href=\"/blog/read?n=Department of Marketing&amp;uk\">Кафедра маркетингу</a></li><li><a class=\"att-menu-item\" href=\"/blog/read?n=Department of Commodity and examination of food&amp;uk\">Кафедра товарознавства, управління безпечністю та якістю</a></li><li><a class=\"att-menu-item\" href=\"/blog/read?n=Department of merchandise and expertise nonfood&amp;uk\">Кафедра товарознавства та митної справи</a></li><li><a class=\"att-menu-item\" href=\"/blog/read?n=Department of Journalism and Advertising&amp;uk\">Кафедра журналістики та реклами</a></li><li><a class=\"att-menu-item\" href=\"/blog/read?n=inozemnoyi filologiyi ta perekladu&amp;uk\">Кафедра іноземної філології та перекладу</a></li><li><a href=\"/blog/read?n=femp&amp;uk\"><span class=\"prev-link\">Факультет економіки, менеджменту та психології</span></a></li><li><a class=\"att-menu-item\" href=\"/blog/read?n=Department of Economic Theory and Competition Policy&amp;uk\">Кафедра економічної теорії та конкурентної політики</a></li><li><a class=\"att-menu-item\" href=\"/blog/read?n=Department of Economics and Finance Company&amp;uk\">Кафедра економіки та фінансів підприємства</a></li><li><a class=\"att-menu-item\" href=\"/blog/read?n=Department of Public Management and Administration&amp;uk\">Кафедра публічного управління та адміністрування</a></li><li><a class=\"att-menu-item\" href=\"/blog/read?n=Department of Management&amp;uk\">Кафедра менеджменту</a></li><li><a class=\"att-menu-item\" href=\"/blog/read?n=Department of Psychology&amp;uk\">Кафедра психології</a></li><li><a href=\"/blog/read?n=fit&amp;uk\"><span class=\"prev-link\">Факультет інформаційних технологій</span></a></li><li><a class=\"att-menu-item\" href=\"/blog/read?n=Department Software Engineering and Information Systems&amp;uk\">Кафедра інженерії програмного забезпечення та кібербезпеки</a></li><li><a class=\"att-menu-item\" href=\"/blog/read?n=Department of Economic Cybernetics and Information Systems&amp;uk\">Кафедра цифрової економіки та системного аналізу</a></li><li><a class=\"att-menu-item\" href=\"/blog/read?n=informaciynikh tekhnologiy u mizhnarodniy torgivli&amp;uk\">Кафедра комп'ютерних наук та інформаційних систем</a></li><li><a class=\"att-menu-item\" href=\"/blog/read?n=Department of Higher and Applied Mathematics&amp;uk\">Кафедра вищої та прикладної математики</a></li><li><a href=\"/blog/read?n=frgtb&amp;uk\"><span class=\"prev-link\">Факультет ресторанно-готельного та туристичного бізнесу </span></a></li><li><a class=\"att-menu-item\" href=\"/blog/read?n=Department of Technology and restaurants&amp;uk\">Кафедра технології і організації ресторанного господарства</a></li><li><a class=\"att-menu-item\" href=\"/blog/read?n=Department of Hotel and catering and tourism&amp;uk\">Кафедра готельно-ресторанного бізнесу</a></li><li><a class=\"att-menu-item\" href=\"/blog/read?n=Department of tourism and recreation&amp;uk\">Кафедра туризму та рекреації</a></li><li><a class=\"att-menu-item\" href=\"/blog/read?n=Department of engineering disciplines&amp;uk\">Кафедра інженерно-технічних дисциплін</a></li><li><a class=\"att-menu-item\" href=\"/blog/read?n=Department of Physical Education&amp;uk\">Кафедра фізичної культури</a></li><li><a href=\"/blog/read?n=ffo&amp;uk\"><span class=\"prev-link\">Факультет фінансів та обліку</span></a></li><li><a class=\"att-menu-item\" href=\"/blog/read?n=Department of Finance&amp;uk\">Кафедра фінансів</a></li><li><a class=\"att-menu-item\" href=\"/blog/read?n=Department of Banking&amp;uk\">Кафедра банківської справи</a></li><li><a class=\"att-menu-item\" href=\"/blog/read?n=Department of Accounting&amp;uk\">Кафедра обліку та оподаткування</a></li><li><a class=\"att-menu-item\" href=\"/blog/read?n=Department of Financial Analysis and Control&amp;uk\">Кафедра фінансового аналізу та аудиту</a></li><li><a class=\"att-menu-item\" href=\"/blog/read?n=Department of Statistics and econometrics&amp;uk\">Кафедра статистики та економетрії</a></li> </ul>\n"
     ]
    }
   ],
   "source": [
    "faculty_table_row = back.find_parent('a').find_parent('li').find_next('ul')\n",
    "print(faculty_table_row)"
   ]
  },
  {
   "cell_type": "code",
   "execution_count": 47,
   "metadata": {
    "scrolled": true
   },
   "outputs": [
    {
     "name": "stdout",
     "output_type": "stream",
     "text": [
      "[['Факультет міжнародної торгівлі та права', '', 'https://knute.edu.ua/blog/read?n=fmtp&uk'], ['', 'Кафедра світової економіки', 'https://knute.edu.ua/blog/read?n=svitovoyi ekonomiki&uk'], ['', 'Кафедра міжнародного менеджменту', 'https://knute.edu.ua/blog/read?n=Department of International Economics&uk'], ['', 'Кафедра міжнародного, цивільного та комерційного права', 'https://knute.edu.ua/blog/read?n=ipcc-law&uk'], ['', 'Кафедра адміністративного, фінансового та інформаційного права', 'https://knute.edu.ua/blog/read?n=Department of Commercial Law&uk'], ['', 'Кафедра правового забезпечення безпеки бізнесу', 'https://knute.edu.ua/blog/read?n=Department of Law&uk'], ['', 'Кафедра сучасних європейських мов', 'https://knute.edu.ua/blog/read?n=Department of Modern European Languages&uk'], ['', 'Кафедра філософії, соціології та політології', 'https://knute.edu.ua/blog/read?n=Department filosofsmbkikh ta socialmbnikh nauk&uk'], ['Факультет торгівлі та маркетингу', '', 'https://knute.edu.ua/blog/read?n=ftm&uk'], ['', 'Кафедра торговельного підприємництва та логістики', 'https://knute.edu.ua/blog/read?n=Department of Enterprise Trade&uk'], ['', 'Кафедра маркетингу', 'https://knute.edu.ua/blog/read?n=Department of Marketing&uk'], ['', 'Кафедра товарознавства, управління безпечністю та якістю', 'https://knute.edu.ua/blog/read?n=Department of Commodity and examination of food&uk'], ['', 'Кафедра товарознавства та митної справи', 'https://knute.edu.ua/blog/read?n=Department of merchandise and expertise nonfood&uk'], ['', 'Кафедра журналістики та реклами', 'https://knute.edu.ua/blog/read?n=Department of Journalism and Advertising&uk'], ['', 'Кафедра іноземної філології та перекладу', 'https://knute.edu.ua/blog/read?n=inozemnoyi filologiyi ta perekladu&uk'], ['Факультет економіки, менеджменту та психології', '', 'https://knute.edu.ua/blog/read?n=femp&uk'], ['', 'Кафедра економічної теорії та конкурентної політики', 'https://knute.edu.ua/blog/read?n=Department of Economic Theory and Competition Policy&uk'], ['', 'Кафедра економіки та фінансів підприємства', 'https://knute.edu.ua/blog/read?n=Department of Economics and Finance Company&uk'], ['', 'Кафедра публічного управління та адміністрування', 'https://knute.edu.ua/blog/read?n=Department of Public Management and Administration&uk'], ['', 'Кафедра менеджменту', 'https://knute.edu.ua/blog/read?n=Department of Management&uk'], ['', 'Кафедра психології', 'https://knute.edu.ua/blog/read?n=Department of Psychology&uk'], ['Факультет інформаційних технологій', '', 'https://knute.edu.ua/blog/read?n=fit&uk'], ['', 'Кафедра інженерії програмного забезпечення та кібербезпеки', 'https://knute.edu.ua/blog/read?n=Department Software Engineering and Information Systems&uk'], ['', 'Кафедра цифрової економіки та системного аналізу', 'https://knute.edu.ua/blog/read?n=Department of Economic Cybernetics and Information Systems&uk'], ['', \"Кафедра комп'ютерних наук та інформаційних систем\", 'https://knute.edu.ua/blog/read?n=informaciynikh tekhnologiy u mizhnarodniy torgivli&uk'], ['', 'Кафедра вищої та прикладної математики', 'https://knute.edu.ua/blog/read?n=Department of Higher and Applied Mathematics&uk'], ['Факультет ресторанно-готельного та туристичного бізнесу ', '', 'https://knute.edu.ua/blog/read?n=frgtb&uk'], ['', 'Кафедра технології і організації ресторанного господарства', 'https://knute.edu.ua/blog/read?n=Department of Technology and restaurants&uk'], ['', 'Кафедра готельно-ресторанного бізнесу', 'https://knute.edu.ua/blog/read?n=Department of Hotel and catering and tourism&uk'], ['', 'Кафедра туризму та рекреації', 'https://knute.edu.ua/blog/read?n=Department of tourism and recreation&uk'], ['', 'Кафедра інженерно-технічних дисциплін', 'https://knute.edu.ua/blog/read?n=Department of engineering disciplines&uk'], ['', 'Кафедра фізичної культури', 'https://knute.edu.ua/blog/read?n=Department of Physical Education&uk'], ['Факультет фінансів та обліку', '', 'https://knute.edu.ua/blog/read?n=ffo&uk'], ['', 'Кафедра фінансів', 'https://knute.edu.ua/blog/read?n=Department of Finance&uk'], ['', 'Кафедра банківської справи', 'https://knute.edu.ua/blog/read?n=Department of Banking&uk'], ['', 'Кафедра обліку та оподаткування', 'https://knute.edu.ua/blog/read?n=Department of Accounting&uk'], ['', 'Кафедра фінансового аналізу та аудиту', 'https://knute.edu.ua/blog/read?n=Department of Financial Analysis and Control&uk'], ['', 'Кафедра статистики та економетрії', 'https://knute.edu.ua/blog/read?n=Department of Statistics and econometrics&uk']]\n"
     ]
    }
   ],
   "source": [
    "data = []\n",
    "for tag in faculty_table_row.find_all('li'):\n",
    "    a_tag = tag.find('a')\n",
    "    kaf_condition = a_tag.has_attr('class') and a_tag['class'][0] == 'att-menu-item'\n",
    "    if 'href' in a_tag.attrs: \n",
    "        url = ['' if kaf_condition else a_tag.text,\n",
    "               a_tag.text if kaf_condition else '',\n",
    "               'https://knute.edu.ua' + a_tag.get('href')]\n",
    "        data.append(url)\n",
    "\n",
    "print(data)"
   ]
  },
  {
   "cell_type": "code",
   "execution_count": 48,
   "metadata": {},
   "outputs": [],
   "source": [
    "import pandas as pd"
   ]
  },
  {
   "cell_type": "code",
   "execution_count": 49,
   "metadata": {},
   "outputs": [
    {
     "data": {
      "text/html": [
       "<div>\n",
       "<style scoped>\n",
       "    .dataframe tbody tr th:only-of-type {\n",
       "        vertical-align: middle;\n",
       "    }\n",
       "\n",
       "    .dataframe tbody tr th {\n",
       "        vertical-align: top;\n",
       "    }\n",
       "\n",
       "    .dataframe thead th {\n",
       "        text-align: right;\n",
       "    }\n",
       "</style>\n",
       "<table border=\"1\" class=\"dataframe\">\n",
       "  <thead>\n",
       "    <tr style=\"text-align: right;\">\n",
       "      <th></th>\n",
       "      <th>Факультет</th>\n",
       "      <th>Кафедра</th>\n",
       "      <th>URL</th>\n",
       "    </tr>\n",
       "  </thead>\n",
       "  <tbody>\n",
       "    <tr>\n",
       "      <th>0</th>\n",
       "      <td>Факультет міжнародної торгівлі та права</td>\n",
       "      <td></td>\n",
       "      <td>https://knute.edu.ua/blog/read?n=fmtp&amp;uk</td>\n",
       "    </tr>\n",
       "    <tr>\n",
       "      <th>1</th>\n",
       "      <td></td>\n",
       "      <td>Кафедра світової економіки</td>\n",
       "      <td>https://knute.edu.ua/blog/read?n=svitovoyi eko...</td>\n",
       "    </tr>\n",
       "    <tr>\n",
       "      <th>2</th>\n",
       "      <td></td>\n",
       "      <td>Кафедра міжнародного менеджменту</td>\n",
       "      <td>https://knute.edu.ua/blog/read?n=Department of...</td>\n",
       "    </tr>\n",
       "    <tr>\n",
       "      <th>3</th>\n",
       "      <td></td>\n",
       "      <td>Кафедра міжнародного, цивільного та комерційно...</td>\n",
       "      <td>https://knute.edu.ua/blog/read?n=ipcc-law&amp;uk</td>\n",
       "    </tr>\n",
       "    <tr>\n",
       "      <th>4</th>\n",
       "      <td></td>\n",
       "      <td>Кафедра адміністративного, фінансового та інфо...</td>\n",
       "      <td>https://knute.edu.ua/blog/read?n=Department of...</td>\n",
       "    </tr>\n",
       "    <tr>\n",
       "      <th>5</th>\n",
       "      <td></td>\n",
       "      <td>Кафедра правового забезпечення безпеки бізнесу</td>\n",
       "      <td>https://knute.edu.ua/blog/read?n=Department of...</td>\n",
       "    </tr>\n",
       "    <tr>\n",
       "      <th>6</th>\n",
       "      <td></td>\n",
       "      <td>Кафедра сучасних європейських мов</td>\n",
       "      <td>https://knute.edu.ua/blog/read?n=Department of...</td>\n",
       "    </tr>\n",
       "    <tr>\n",
       "      <th>7</th>\n",
       "      <td></td>\n",
       "      <td>Кафедра філософії, соціології та політології</td>\n",
       "      <td>https://knute.edu.ua/blog/read?n=Department fi...</td>\n",
       "    </tr>\n",
       "    <tr>\n",
       "      <th>8</th>\n",
       "      <td>Факультет торгівлі та маркетингу</td>\n",
       "      <td></td>\n",
       "      <td>https://knute.edu.ua/blog/read?n=ftm&amp;uk</td>\n",
       "    </tr>\n",
       "    <tr>\n",
       "      <th>9</th>\n",
       "      <td></td>\n",
       "      <td>Кафедра торговельного підприємництва та логістики</td>\n",
       "      <td>https://knute.edu.ua/blog/read?n=Department of...</td>\n",
       "    </tr>\n",
       "  </tbody>\n",
       "</table>\n",
       "</div>"
      ],
      "text/plain": [
       "                                 Факультет  \\\n",
       "0  Факультет міжнародної торгівлі та права   \n",
       "1                                            \n",
       "2                                            \n",
       "3                                            \n",
       "4                                            \n",
       "5                                            \n",
       "6                                            \n",
       "7                                            \n",
       "8         Факультет торгівлі та маркетингу   \n",
       "9                                            \n",
       "\n",
       "                                             Кафедра  \\\n",
       "0                                                      \n",
       "1                         Кафедра світової економіки   \n",
       "2                   Кафедра міжнародного менеджменту   \n",
       "3  Кафедра міжнародного, цивільного та комерційно...   \n",
       "4  Кафедра адміністративного, фінансового та інфо...   \n",
       "5     Кафедра правового забезпечення безпеки бізнесу   \n",
       "6                  Кафедра сучасних європейських мов   \n",
       "7       Кафедра філософії, соціології та політології   \n",
       "8                                                      \n",
       "9  Кафедра торговельного підприємництва та логістики   \n",
       "\n",
       "                                                 URL  \n",
       "0           https://knute.edu.ua/blog/read?n=fmtp&uk  \n",
       "1  https://knute.edu.ua/blog/read?n=svitovoyi eko...  \n",
       "2  https://knute.edu.ua/blog/read?n=Department of...  \n",
       "3       https://knute.edu.ua/blog/read?n=ipcc-law&uk  \n",
       "4  https://knute.edu.ua/blog/read?n=Department of...  \n",
       "5  https://knute.edu.ua/blog/read?n=Department of...  \n",
       "6  https://knute.edu.ua/blog/read?n=Department of...  \n",
       "7  https://knute.edu.ua/blog/read?n=Department fi...  \n",
       "8            https://knute.edu.ua/blog/read?n=ftm&uk  \n",
       "9  https://knute.edu.ua/blog/read?n=Department of...  "
      ]
     },
     "execution_count": 49,
     "metadata": {},
     "output_type": "execute_result"
    }
   ],
   "source": [
    "# завантажимо результат в датафрейм\n",
    "df = pd.DataFrame(data, columns=['Факультет', \"Кафедра\", 'URL'])\n",
    "df.head(10)"
   ]
  },
  {
   "cell_type": "code",
   "execution_count": null,
   "metadata": {},
   "outputs": [],
   "source": []
  }
 ],
 "metadata": {
  "kernelspec": {
   "display_name": "Python 3",
   "language": "python",
   "name": "python3"
  },
  "language_info": {
   "codemirror_mode": {
    "name": "ipython",
    "version": 3
   },
   "file_extension": ".py",
   "mimetype": "text/x-python",
   "name": "python",
   "nbconvert_exporter": "python",
   "pygments_lexer": "ipython3",
   "version": "3.8.5"
  }
 },
 "nbformat": 4,
 "nbformat_minor": 2
}
